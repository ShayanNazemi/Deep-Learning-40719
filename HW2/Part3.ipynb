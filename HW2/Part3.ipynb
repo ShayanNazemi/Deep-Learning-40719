{
  "nbformat": 4,
  "nbformat_minor": 0,
  "metadata": {
    "colab": {
      "name": "Part3.ipynb",
      "provenance": [],
      "collapsed_sections": []
    },
    "kernelspec": {
      "display_name": "Python 3",
      "language": "python",
      "name": "python3"
    },
    "language_info": {
      "codemirror_mode": {
        "name": "ipython",
        "version": 3
      },
      "file_extension": ".py",
      "mimetype": "text/x-python",
      "name": "python",
      "nbconvert_exporter": "python",
      "pygments_lexer": "ipython3",
      "version": "3.7.4"
    },
    "widgets": {
      "application/vnd.jupyter.widget-state+json": {
        "e28a257429b246ff971aadc2cd6dde13": {
          "model_module": "@jupyter-widgets/controls",
          "model_name": "HBoxModel",
          "state": {
            "_view_name": "HBoxView",
            "_dom_classes": [],
            "_model_name": "HBoxModel",
            "_view_module": "@jupyter-widgets/controls",
            "_model_module_version": "1.5.0",
            "_view_count": null,
            "_view_module_version": "1.5.0",
            "box_style": "",
            "layout": "IPY_MODEL_14be019840f4416a9d9de94adb771219",
            "_model_module": "@jupyter-widgets/controls",
            "children": [
              "IPY_MODEL_56510573383a418b8a5b5fe775a8e661",
              "IPY_MODEL_126b55e838a547abbc38586379d502ff"
            ]
          }
        },
        "14be019840f4416a9d9de94adb771219": {
          "model_module": "@jupyter-widgets/base",
          "model_name": "LayoutModel",
          "state": {
            "_view_name": "LayoutView",
            "grid_template_rows": null,
            "right": null,
            "justify_content": null,
            "_view_module": "@jupyter-widgets/base",
            "overflow": null,
            "_model_module_version": "1.2.0",
            "_view_count": null,
            "flex_flow": null,
            "width": null,
            "min_width": null,
            "border": null,
            "align_items": null,
            "bottom": null,
            "_model_module": "@jupyter-widgets/base",
            "top": null,
            "grid_column": null,
            "overflow_y": null,
            "overflow_x": null,
            "grid_auto_flow": null,
            "grid_area": null,
            "grid_template_columns": null,
            "flex": null,
            "_model_name": "LayoutModel",
            "justify_items": null,
            "grid_row": null,
            "max_height": null,
            "align_content": null,
            "visibility": null,
            "align_self": null,
            "height": null,
            "min_height": null,
            "padding": null,
            "grid_auto_rows": null,
            "grid_gap": null,
            "max_width": null,
            "order": null,
            "_view_module_version": "1.2.0",
            "grid_template_areas": null,
            "object_position": null,
            "object_fit": null,
            "grid_auto_columns": null,
            "margin": null,
            "display": null,
            "left": null
          }
        },
        "56510573383a418b8a5b5fe775a8e661": {
          "model_module": "@jupyter-widgets/controls",
          "model_name": "IntProgressModel",
          "state": {
            "_view_name": "ProgressView",
            "style": "IPY_MODEL_57a3ae69a0c6488e99cc456fe66334e2",
            "_dom_classes": [],
            "description": "",
            "_model_name": "IntProgressModel",
            "bar_style": "success",
            "max": 1,
            "_view_module": "@jupyter-widgets/controls",
            "_model_module_version": "1.5.0",
            "value": 1,
            "_view_count": null,
            "_view_module_version": "1.5.0",
            "orientation": "horizontal",
            "min": 0,
            "description_tooltip": null,
            "_model_module": "@jupyter-widgets/controls",
            "layout": "IPY_MODEL_20961420e8e5419e968682bbb013828d"
          }
        },
        "126b55e838a547abbc38586379d502ff": {
          "model_module": "@jupyter-widgets/controls",
          "model_name": "HTMLModel",
          "state": {
            "_view_name": "HTMLView",
            "style": "IPY_MODEL_34751f24c86a4211a3bc5d81fe261bb5",
            "_dom_classes": [],
            "description": "",
            "_model_name": "HTMLModel",
            "placeholder": "​",
            "_view_module": "@jupyter-widgets/controls",
            "_model_module_version": "1.5.0",
            "value": "170500096it [00:03, 52440617.13it/s]",
            "_view_count": null,
            "_view_module_version": "1.5.0",
            "description_tooltip": null,
            "_model_module": "@jupyter-widgets/controls",
            "layout": "IPY_MODEL_f516daa21cd94dabaec121a217ed02f5"
          }
        },
        "57a3ae69a0c6488e99cc456fe66334e2": {
          "model_module": "@jupyter-widgets/controls",
          "model_name": "ProgressStyleModel",
          "state": {
            "_view_name": "StyleView",
            "_model_name": "ProgressStyleModel",
            "description_width": "",
            "_view_module": "@jupyter-widgets/base",
            "_model_module_version": "1.5.0",
            "_view_count": null,
            "_view_module_version": "1.2.0",
            "bar_color": null,
            "_model_module": "@jupyter-widgets/controls"
          }
        },
        "20961420e8e5419e968682bbb013828d": {
          "model_module": "@jupyter-widgets/base",
          "model_name": "LayoutModel",
          "state": {
            "_view_name": "LayoutView",
            "grid_template_rows": null,
            "right": null,
            "justify_content": null,
            "_view_module": "@jupyter-widgets/base",
            "overflow": null,
            "_model_module_version": "1.2.0",
            "_view_count": null,
            "flex_flow": null,
            "width": null,
            "min_width": null,
            "border": null,
            "align_items": null,
            "bottom": null,
            "_model_module": "@jupyter-widgets/base",
            "top": null,
            "grid_column": null,
            "overflow_y": null,
            "overflow_x": null,
            "grid_auto_flow": null,
            "grid_area": null,
            "grid_template_columns": null,
            "flex": null,
            "_model_name": "LayoutModel",
            "justify_items": null,
            "grid_row": null,
            "max_height": null,
            "align_content": null,
            "visibility": null,
            "align_self": null,
            "height": null,
            "min_height": null,
            "padding": null,
            "grid_auto_rows": null,
            "grid_gap": null,
            "max_width": null,
            "order": null,
            "_view_module_version": "1.2.0",
            "grid_template_areas": null,
            "object_position": null,
            "object_fit": null,
            "grid_auto_columns": null,
            "margin": null,
            "display": null,
            "left": null
          }
        },
        "34751f24c86a4211a3bc5d81fe261bb5": {
          "model_module": "@jupyter-widgets/controls",
          "model_name": "DescriptionStyleModel",
          "state": {
            "_view_name": "StyleView",
            "_model_name": "DescriptionStyleModel",
            "description_width": "",
            "_view_module": "@jupyter-widgets/base",
            "_model_module_version": "1.5.0",
            "_view_count": null,
            "_view_module_version": "1.2.0",
            "_model_module": "@jupyter-widgets/controls"
          }
        },
        "f516daa21cd94dabaec121a217ed02f5": {
          "model_module": "@jupyter-widgets/base",
          "model_name": "LayoutModel",
          "state": {
            "_view_name": "LayoutView",
            "grid_template_rows": null,
            "right": null,
            "justify_content": null,
            "_view_module": "@jupyter-widgets/base",
            "overflow": null,
            "_model_module_version": "1.2.0",
            "_view_count": null,
            "flex_flow": null,
            "width": null,
            "min_width": null,
            "border": null,
            "align_items": null,
            "bottom": null,
            "_model_module": "@jupyter-widgets/base",
            "top": null,
            "grid_column": null,
            "overflow_y": null,
            "overflow_x": null,
            "grid_auto_flow": null,
            "grid_area": null,
            "grid_template_columns": null,
            "flex": null,
            "_model_name": "LayoutModel",
            "justify_items": null,
            "grid_row": null,
            "max_height": null,
            "align_content": null,
            "visibility": null,
            "align_self": null,
            "height": null,
            "min_height": null,
            "padding": null,
            "grid_auto_rows": null,
            "grid_gap": null,
            "max_width": null,
            "order": null,
            "_view_module_version": "1.2.0",
            "grid_template_areas": null,
            "object_position": null,
            "object_fit": null,
            "grid_auto_columns": null,
            "margin": null,
            "display": null,
            "left": null
          }
        }
      }
    }
  },
  "cells": [
    {
      "cell_type": "markdown",
      "metadata": {
        "colab_type": "text",
        "id": "uVVeVEgumZLg"
      },
      "source": [
        "# CE-40959: Deep Learning\n",
        "## HW2 - CIFAR-10 Classification (Pytorch)\n",
        "\n",
        "(18 points)\n",
        "\n",
        "### Deadline: 23 Esfand\n",
        "\n",
        "#### Name:\n",
        "#### Student No.:\n",
        "\n",
        "\n",
        "Please review `Pytorch Tutorial` notebook (materials of the TA classes) before coming to this notebook and you can use `pytorch.org` to learn how to use PyTorch classes and commands.\n",
        "\n",
        "In this part you have to implement MLP for Classification of CIFAR-10 dataset. \n",
        "\n",
        "PyTorch provides the elegantly designed modules and classes `torch.nn`, `torch.optim` , `Dataset` , and `DataLoader` to help you create and train neural networks. In this homework you use them for your implementations."
      ]
    },
    {
      "cell_type": "code",
      "metadata": {
        "colab_type": "code",
        "id": "v5alOnjtlGfy",
        "colab": {}
      },
      "source": [
        "import numpy as np\n",
        "import os\n",
        "import matplotlib.pyplot as plt\n",
        "import torch\n",
        "import torchvision"
      ],
      "execution_count": 0,
      "outputs": []
    },
    {
      "cell_type": "markdown",
      "metadata": {
        "colab_type": "text",
        "id": "WGj-LMuWmx2q"
      },
      "source": [
        "#### 3.1. Load Data:\n",
        "\n",
        "Complete the followed cell for data loading. \n",
        "In this cell you have to normalize, split and shuffle data for learning."
      ]
    },
    {
      "cell_type": "code",
      "metadata": {
        "colab_type": "code",
        "id": "kgv51um_lJiL",
        "outputId": "628ca146-0045-4a26-a553-057d24eeaba2",
        "colab": {
          "base_uri": "https://localhost:8080/",
          "height": 117,
          "referenced_widgets": [
            "e28a257429b246ff971aadc2cd6dde13",
            "14be019840f4416a9d9de94adb771219",
            "56510573383a418b8a5b5fe775a8e661",
            "126b55e838a547abbc38586379d502ff",
            "57a3ae69a0c6488e99cc456fe66334e2",
            "20961420e8e5419e968682bbb013828d",
            "34751f24c86a4211a3bc5d81fe261bb5",
            "f516daa21cd94dabaec121a217ed02f5"
          ]
        }
      },
      "source": [
        "import torchvision.transforms as transforms\n",
        "from torch.utils.data import DataLoader\n",
        "from torch.utils.data.sampler import SubsetRandomSampler\n",
        "\n",
        "trainloader = None\n",
        "validationloader = None\n",
        "testloader = None\n",
        "##################################################################################\n",
        "# TODO: Use 'torchvision.datasets.CIFAR-10' class for loading CIFAR-10 dataset.  #\n",
        "# This dataset has 50000 data for training and 10000 data for test and every     #\n",
        "# data has shape (3*32*32).                                                      #\n",
        "# Also Use 'torchvision.transforms.Compose' for common image transformations     #\n",
        "# such as normalization and use 'torch.utils.data.DataLoader' class that it      #\n",
        "# represents a Python iterable over a dataset and divides data to Batches.       #\n",
        "# Then Split data into 3 part: Train, Validation and Test. Finally,              #\n",
        "# save iterable data in 'trainloader', 'validationloader', 'testloader'.         #\n",
        "##################################################################################\n",
        "\n",
        "batch_size_train = 64\n",
        "batch_size_test = 64\n",
        "\n",
        "valid_size = 0.2\n",
        "\n",
        "transform = transforms.Compose([\n",
        "                                transforms.ToTensor(), \n",
        "                                transforms.Normalize((0.5, 0.5, 0.5), (0.5, 0.5, 0.5))\n",
        "                                ])\n",
        "\n",
        "train_validatation_set = torchvision.datasets.CIFAR10(\n",
        "    root='./data', train=True, download=True, transform=transform\n",
        "    )\n",
        "\n",
        "num_train = len(train_validatation_set)\n",
        "indices = list(range(num_train))\n",
        "np.random.shuffle(indices)\n",
        "split = int(np.floor(valid_size * num_train))\n",
        "\n",
        "trainloader = torch.utils.data.DataLoader(\n",
        "    train_validatation_set, batch_size=batch_size_train, \n",
        "    sampler=SubsetRandomSampler(indices[split:])\n",
        "    )\n",
        "\n",
        "validationloader = torch.utils.data.DataLoader(\n",
        "    train_validatation_set, batch_size=batch_size_train, \n",
        "    sampler=SubsetRandomSampler(indices[:split])\n",
        "    )\n",
        "\n",
        "\n",
        "test_set = torchvision.datasets.CIFAR10(\n",
        "    root='./data', train=False,download=True, transform=transform\n",
        "    )\n",
        "\n",
        "testloader = torch.utils.data.DataLoader(\n",
        "    test_set, batch_size=batch_size_test , shuffle=False, num_workers=2\n",
        "    )\n",
        "\n",
        "##################################################################################\n",
        "#                               End of your code                                 #\n",
        "##################################################################################\n",
        "\n",
        "classes = ('plane', 'car', 'bird', 'cat','deer', 'dog', 'frog', 'horse', 'ship', 'truck')"
      ],
      "execution_count": 2,
      "outputs": [
        {
          "output_type": "stream",
          "text": [
            "Downloading https://www.cs.toronto.edu/~kriz/cifar-10-python.tar.gz to ./data/cifar-10-python.tar.gz\n"
          ],
          "name": "stdout"
        },
        {
          "output_type": "display_data",
          "data": {
            "application/vnd.jupyter.widget-view+json": {
              "model_id": "e28a257429b246ff971aadc2cd6dde13",
              "version_minor": 0,
              "version_major": 2
            },
            "text/plain": [
              "HBox(children=(IntProgress(value=1, bar_style='info', max=1), HTML(value='')))"
            ]
          },
          "metadata": {
            "tags": []
          }
        },
        {
          "output_type": "stream",
          "text": [
            "\n",
            "Extracting ./data/cifar-10-python.tar.gz to ./data\n",
            "Files already downloaded and verified\n"
          ],
          "name": "stdout"
        }
      ]
    },
    {
      "cell_type": "markdown",
      "metadata": {
        "colab_type": "text",
        "id": "wdLQ8BpxEoZ-"
      },
      "source": [
        "#### 3.2. Load Data Test:"
      ]
    },
    {
      "cell_type": "code",
      "metadata": {
        "colab_type": "code",
        "id": "eaOeLN3klZ9F",
        "outputId": "76707273-ebb1-4459-c9cf-dac7029f983e",
        "colab": {
          "base_uri": "https://localhost:8080/",
          "height": 136
        }
      },
      "source": [
        "############################################################\n",
        "# Run the following code an check the size of each batch   #\n",
        "############################################################\n",
        "examples = enumerate(trainloader)\n",
        "batch_idx, (example_data, example_targets) = next(examples)\n",
        "print('The size and type of each batch in ''trainloader'' is:')\n",
        "print(example_data.size())\n",
        "print(type(example_data))\n",
        "examples = enumerate(testloader)\n",
        "batch_idx, (example_data, example_targets) = next(examples)\n",
        "print('\\nThe size and type of each batch in ''testloader'' is:')\n",
        "print(example_data.size())\n",
        "print(type(example_data))"
      ],
      "execution_count": 3,
      "outputs": [
        {
          "output_type": "stream",
          "text": [
            "The size and type of each batch in trainloader is:\n",
            "torch.Size([64, 3, 32, 32])\n",
            "<class 'torch.Tensor'>\n",
            "\n",
            "The size and type of each batch in testloader is:\n",
            "torch.Size([64, 3, 32, 32])\n",
            "<class 'torch.Tensor'>\n"
          ],
          "name": "stdout"
        }
      ]
    },
    {
      "cell_type": "code",
      "metadata": {
        "colab_type": "code",
        "id": "cPMpTd230hLY",
        "outputId": "a5adbbd8-d99c-4927-fbb0-20b8bcd5eabb",
        "colab": {
          "base_uri": "https://localhost:8080/",
          "height": 1000
        }
      },
      "source": [
        "#####################################################################\n",
        "# Run the following code and see some of the samples in the dataset #\n",
        "#####################################################################\n",
        "\n",
        "dataiter = iter(trainloader)\n",
        "images, labels = dataiter.next()\n",
        "\n",
        "# show images:\n",
        "for i in range(4):\n",
        "    img=torchvision.utils.make_grid(images[i])\n",
        "    ###########################################################\n",
        "    #  If you normalize data , here unnormalize them to see   # \n",
        "    #  clear them.                                            #\n",
        "    ###########################################################\n",
        "    m = 0.5\n",
        "    s = 0.5\n",
        "    img = img * s + m    # unnormalize\n",
        "    ###########################################################\n",
        "    #                   End of your code                      #\n",
        "    ###########################################################\n",
        "    npimg = img.numpy()\n",
        "    plt.imshow(np.transpose(npimg, (1,2, 0)))\n",
        "    plt.title(\"Target Labels: {}\".format(classes[labels[i]]))\n",
        "    plt.axis('off')\n",
        "    plt.show()\n",
        "    "
      ],
      "execution_count": 4,
      "outputs": [
        {
          "output_type": "display_data",
          "data": {
            "image/png": "[encoded data removed]",
            "text/plain": [
              "<Figure size 432x288 with 1 Axes>"
            ]
          },
          "metadata": {
            "tags": []
          }
        },
        {
          "output_type": "display_data",
          "data": {
            "image/png": "[encoded data removed]",
            "text/plain": [
              "<Figure size 432x288 with 1 Axes>"
            ]
          },
          "metadata": {
            "tags": []
          }
        },
        {
          "output_type": "display_data",
          "data": {
            "image/png": "[encoded data removed]",
            "text/plain": [
              "<Figure size 432x288 with 1 Axes>"
            ]
          },
          "metadata": {
            "tags": []
          }
        },
        {
          "output_type": "display_data",
          "data": {
            "image/png": "[encoded data removed]",
            "text/plain": [
              "<Figure size 432x288 with 1 Axes>"
            ]
          },
          "metadata": {
            "tags": []
          }
        }
      ]
    },
    {
      "cell_type": "markdown",
      "metadata": {
        "colab_type": "text",
        "id": "TKpijVi0E1Zm"
      },
      "source": [
        "#### 3.3. Network Design:\n",
        "Design the layer of your network and select proper hyperparameter. \n",
        "\n"
      ]
    },
    {
      "cell_type": "code",
      "metadata": {
        "colab_type": "code",
        "id": "V8nfR7jqxTBO",
        "colab": {}
      },
      "source": [
        "import torch.nn as nn\n",
        "\n",
        "######################################################################\n",
        "# TODO: Use 'torch.nn' module to design your network for CIFAR-10    #\n",
        "# classification. You have to implement the structure of MLP for it. #\n",
        "# In your design you don't have any limitation and you can use       #\n",
        "# Batch-norm layers, Drop-out layers and etc for generalization      #\n",
        "# improvement (if needed). Use classes and modules from 'torch.nn'.  #\n",
        "# In the following code, the 'MLP' class is your MLP network and     #\n",
        "# this class is inherited from nn.Module, so you can benefit         #\n",
        "# properties of the 'nn.Module'.You may complete '__init__()'        #\n",
        "# constructor by some classes like 'nn.ReLU()' or 'nn.Linear()'      #\n",
        "# to use them in the forward pass of your network.                   #\n",
        "######################################################################\n",
        "  \n",
        "class MLP(nn.Module):\n",
        "    def __init__(self, D_in, H1, H2, H3, H4, H5, D_out):\n",
        "        super(MLP, self).__init__()\n",
        "        \n",
        "        self.linear1 = torch.nn.Linear(D_in, H1)\n",
        "        self.batch1 = torch.nn.BatchNorm1d(H1)\n",
        "        self.relu1 = torch.nn.ReLU()\n",
        "\n",
        "        self.linear2 = torch.nn.Linear(H1, H2)\n",
        "        self.batch2 = torch.nn.BatchNorm1d(H2)\n",
        "        self.relu2 = torch.nn.ReLU()\n",
        "\n",
        "        self.linear3 = torch.nn.Linear(H2, H3)\n",
        "        self.batch3 = torch.nn.BatchNorm1d(H3)\n",
        "        self.relu3 = torch.nn.ReLU()\n",
        "\n",
        "        self.linear4 = torch.nn.Linear(H3, H4)\n",
        "        self.batch4 = torch.nn.BatchNorm1d(H4)\n",
        "        self.relu4 = torch.nn.ReLU()\n",
        "\n",
        "        self.linear5 = torch.nn.Linear(H4, H5)\n",
        "        self.batch5 = torch.nn.BatchNorm1d(H5)\n",
        "        self.relu5 = torch.nn.ReLU()\n",
        "        \n",
        "        self.linear6 = torch.nn.Linear(H5, D_out)\n",
        "\n",
        "    def forward(self, x):\n",
        "        out1 = self.relu1(self.batch1(self.linear1(x)))\n",
        "        out2 = self.relu2(self.batch2(self.linear2(out1)))\n",
        "        out3 = self.relu3(self.batch3(self.linear3(out2)))\n",
        "        out4 = self.relu4(self.batch4(self.linear4(out3)))\n",
        "        out5 = self.relu5(self.batch5(self.linear5(out4)))\n",
        "        \n",
        "        out = self.linear6(out5)\n",
        "        return out\n",
        "\n",
        "######################################################################\n",
        "#                          End of your code                          #\n",
        "######################################################################"
      ],
      "execution_count": 0,
      "outputs": []
    },
    {
      "cell_type": "markdown",
      "metadata": {
        "colab_type": "text",
        "id": "1dGyL8c8E-Rb"
      },
      "source": [
        "#### 3.4. Optimization Algorithm:"
      ]
    },
    {
      "cell_type": "code",
      "metadata": {
        "colab_type": "code",
        "id": "AXuefQ1GB7Ry",
        "colab": {}
      },
      "source": [
        "import torch.optim as optim\n",
        "\n",
        "#############################################################################\n",
        "# TODO: Use a Classification Cross-Entropy loss.Then, use 'torch.optim'     #\n",
        "# module to optimize Cross-Entropy loss. You should select a optimization   #\n",
        "# algorithm and its hyperparameters like learning rate.                     #\n",
        "#############################################################################\n",
        "net = MLP(3072, 2048, 1024, 256, 128, 64, len(classes))\n",
        "learning_rate = 2e-3\n",
        "criterion = torch.nn.functional.cross_entropy\n",
        "optimizer = torch.optim.Adam(net.parameters(), lr=learning_rate)\n",
        "\n",
        "#############################################################################\n",
        "#                             End of your code                              #\n",
        "#############################################################################"
      ],
      "execution_count": 0,
      "outputs": []
    },
    {
      "cell_type": "markdown",
      "metadata": {
        "colab_type": "text",
        "id": "3jL9GEnZFN-z"
      },
      "source": [
        "#### 3.5. Training:\n",
        "You have to tweak `hidden_dim`, `leanirng_rate`, `weight_scale`, `num_epochs` and `reg` and etc to get a validation accuracy above 50%."
      ]
    },
    {
      "cell_type": "code",
      "metadata": {
        "id": "8wPNzhwwbRcO",
        "colab_type": "code",
        "colab": {}
      },
      "source": [
        "def plot_history(loss, train_acc, val_acc):\n",
        "    x = [i for i in range(len(loss))]\n",
        "    \n",
        "    # plot for losses\n",
        "    plt.plot(x, loss, '-g', label='train')\n",
        "    plt.xlabel('epoch')\n",
        "    plt.ylabel('loss')\n",
        "    plt.legend(loc='upper right')\n",
        "    plt.show()\n",
        "    \n",
        "    # plot for accuracies\n",
        "    plt.plot(x, train_acc, '-g', label='train')\n",
        "    plt.plot(x, val_acc, '-r', label='validation')\n",
        "    plt.xlabel('epoch')\n",
        "    plt.ylabel('accuracy')\n",
        "    plt.legend(loc='upper left')\n",
        "    plt.show()"
      ],
      "execution_count": 0,
      "outputs": []
    },
    {
      "cell_type": "code",
      "metadata": {
        "colab_type": "code",
        "id": "zJdyD46TZY0t",
        "outputId": "3f70e82d-d7cf-49c5-a88c-220f030799b7",
        "colab": {
          "base_uri": "https://localhost:8080/",
          "height": 1000
        }
      },
      "source": [
        "#######################################################\n",
        "# TODO: Feed the inputs data to the MLP network and   #\n",
        "# optimize Cross-Entropy loss by using target labels. #\n",
        "# Then update weights and biases.                     #\n",
        "#######################################################\n",
        "\n",
        "num_epochs=15\n",
        "num_batchs = len(trainloader)\n",
        "\n",
        "train_loss = []\n",
        "train_accuracy = []\n",
        "validation_accuracy = []\n",
        "\n",
        "for epoch in range(num_epochs):\n",
        "    total_train=0\n",
        "    correct_train=0\n",
        "    running_loss = 0.0\n",
        "    for batch, data in enumerate(trainloader, 0):\n",
        "        inputs, labels = data\n",
        "\n",
        "        (b_size, n_channel, w, h) = inputs.shape\n",
        "        inputs = inputs.reshape(b_size, n_channel * w * h)\n",
        "\n",
        "        # zero the parameter gradients:\n",
        "        optimizer.zero_grad()\n",
        "        pass\n",
        "\n",
        "        # forward pass:\n",
        "        outputs = net(inputs)\n",
        "        loss = criterion(outputs, labels)\n",
        "        pass\n",
        "\n",
        "        # backward pass:\n",
        "        loss.backward()\n",
        "        pass\n",
        "\n",
        "        # optimization:\n",
        "        optimizer.step()\n",
        "\n",
        "        pass\n",
        "        #############################################\n",
        "        #           End of your code                #\n",
        "        #############################################\n",
        "        \n",
        "\n",
        "        # Results: \n",
        "        running_loss += loss.item()\n",
        "\n",
        "        total_train += labels.size(0)\n",
        "        _, predicted_train = torch.max(outputs.data, 1)\n",
        "        correct_train += (predicted_train == labels).sum().item()\n",
        "\n",
        "        if batch % (num_batchs/10) == ((num_batchs/10) -1):\n",
        "            print('[Batch %d / %d] loss: %.3f' %\n",
        "                  (batch + 1, num_batchs, running_loss / (num_batchs/10)))\n",
        "            running_loss = 0.0\n",
        "            torch.save(net.state_dict(), './model.pth')\n",
        "            torch.save(optimizer.state_dict(), './optimizer.pth')\n",
        "        \n",
        "    correct = 0\n",
        "    total = 0\n",
        "\n",
        "    \n",
        "    with torch.no_grad():\n",
        "        for data in validationloader:\n",
        "            images, labels = data\n",
        "\n",
        "            (b_size, n_channel, w, h) = images.shape\n",
        "            images = images.reshape(b_size, n_channel * w * h)\n",
        "                \n",
        "            outputs = net(images)\n",
        "            _, predicted = torch.max(outputs.data, 1)\n",
        "            total += labels.size(0)\n",
        "            correct += (predicted == labels).sum().item()\n",
        "    val_acc = correct / total\n",
        "    train_acc = correct_train / total_train\n",
        "    \n",
        "    train_loss.append(loss.item())\n",
        "    train_accuracy.append(100 * train_acc)\n",
        "    validation_accuracy.append(100 * val_acc)\n",
        "\n",
        "    print('(Epoch %d / %d) train acc: %.2f%%; val_acc: %.2f%%' % (\n",
        "          epoch+1, num_epochs, 100*train_acc, 100*val_acc))\n",
        "    \n",
        "plot_history(train_loss, train_accuracy, validation_accuracy)"
      ],
      "execution_count": 42,
      "outputs": [
        {
          "output_type": "stream",
          "text": [
            "[Batch 125 / 625] loss: 3.889\n",
            "[Batch 250 / 625] loss: 3.540\n",
            "[Batch 375 / 625] loss: 3.407\n",
            "[Batch 500 / 625] loss: 3.315\n",
            "[Batch 625 / 625] loss: 3.237\n",
            "(Epoch 1 / 15) train acc: 37.39%; val_acc: 43.92%\n",
            "[Batch 125 / 625] loss: 3.069\n",
            "[Batch 250 / 625] loss: 3.067\n",
            "[Batch 375 / 625] loss: 2.998\n",
            "[Batch 500 / 625] loss: 2.973\n",
            "[Batch 625 / 625] loss: 2.948\n",
            "(Epoch 2 / 15) train acc: 45.98%; val_acc: 47.03%\n",
            "[Batch 125 / 625] loss: 2.773\n",
            "[Batch 250 / 625] loss: 2.827\n",
            "[Batch 375 / 625] loss: 2.807\n",
            "[Batch 500 / 625] loss: 2.759\n",
            "[Batch 625 / 625] loss: 2.741\n",
            "(Epoch 3 / 15) train acc: 50.36%; val_acc: 49.69%\n",
            "[Batch 125 / 625] loss: 2.593\n",
            "[Batch 250 / 625] loss: 2.627\n",
            "[Batch 375 / 625] loss: 2.572\n",
            "[Batch 500 / 625] loss: 2.622\n",
            "[Batch 625 / 625] loss: 2.565\n",
            "(Epoch 4 / 15) train acc: 53.56%; val_acc: 50.73%\n",
            "[Batch 125 / 625] loss: 2.413\n",
            "[Batch 250 / 625] loss: 2.411\n",
            "[Batch 375 / 625] loss: 2.468\n",
            "[Batch 500 / 625] loss: 2.464\n",
            "[Batch 625 / 625] loss: 2.454\n",
            "(Epoch 5 / 15) train acc: 56.90%; val_acc: 51.07%\n",
            "[Batch 125 / 625] loss: 2.260\n",
            "[Batch 250 / 625] loss: 2.270\n",
            "[Batch 375 / 625] loss: 2.330\n",
            "[Batch 500 / 625] loss: 2.332\n",
            "[Batch 625 / 625] loss: 2.326\n",
            "(Epoch 6 / 15) train acc: 58.95%; val_acc: 52.84%\n",
            "[Batch 125 / 625] loss: 2.075\n",
            "[Batch 250 / 625] loss: 2.154\n",
            "[Batch 375 / 625] loss: 2.162\n",
            "[Batch 500 / 625] loss: 2.190\n",
            "[Batch 625 / 625] loss: 2.198\n",
            "(Epoch 7 / 15) train acc: 61.69%; val_acc: 53.03%\n",
            "[Batch 125 / 625] loss: 1.906\n",
            "[Batch 250 / 625] loss: 1.993\n",
            "[Batch 375 / 625] loss: 2.046\n",
            "[Batch 500 / 625] loss: 2.061\n",
            "[Batch 625 / 625] loss: 2.040\n",
            "(Epoch 8 / 15) train acc: 64.37%; val_acc: 54.33%\n",
            "[Batch 125 / 625] loss: 1.731\n",
            "[Batch 250 / 625] loss: 1.879\n",
            "[Batch 375 / 625] loss: 1.888\n",
            "[Batch 500 / 625] loss: 1.931\n",
            "[Batch 625 / 625] loss: 1.892\n",
            "(Epoch 9 / 15) train acc: 66.82%; val_acc: 53.28%\n",
            "[Batch 125 / 625] loss: 1.646\n",
            "[Batch 250 / 625] loss: 1.712\n",
            "[Batch 375 / 625] loss: 1.714\n",
            "[Batch 500 / 625] loss: 1.732\n",
            "[Batch 625 / 625] loss: 1.768\n",
            "(Epoch 10 / 15) train acc: 69.61%; val_acc: 53.67%\n",
            "[Batch 125 / 625] loss: 1.441\n",
            "[Batch 250 / 625] loss: 1.559\n",
            "[Batch 375 / 625] loss: 1.597\n",
            "[Batch 500 / 625] loss: 1.649\n",
            "[Batch 625 / 625] loss: 1.557\n",
            "(Epoch 11 / 15) train acc: 72.36%; val_acc: 53.08%\n",
            "[Batch 125 / 625] loss: 1.278\n",
            "[Batch 250 / 625] loss: 1.470\n",
            "[Batch 375 / 625] loss: 1.445\n",
            "[Batch 500 / 625] loss: 1.468\n",
            "[Batch 625 / 625] loss: 1.456\n",
            "(Epoch 12 / 15) train acc: 74.77%; val_acc: 54.42%\n",
            "[Batch 125 / 625] loss: 1.181\n",
            "[Batch 250 / 625] loss: 1.242\n",
            "[Batch 375 / 625] loss: 1.285\n",
            "[Batch 500 / 625] loss: 1.338\n",
            "[Batch 625 / 625] loss: 1.306\n",
            "(Epoch 13 / 15) train acc: 77.56%; val_acc: 54.63%\n",
            "[Batch 125 / 625] loss: 1.038\n",
            "[Batch 250 / 625] loss: 1.099\n",
            "[Batch 375 / 625] loss: 1.182\n",
            "[Batch 500 / 625] loss: 1.155\n",
            "[Batch 625 / 625] loss: 1.193\n",
            "(Epoch 14 / 15) train acc: 80.01%; val_acc: 53.55%\n",
            "[Batch 125 / 625] loss: 0.882\n",
            "[Batch 250 / 625] loss: 0.984\n",
            "[Batch 375 / 625] loss: 1.041\n",
            "[Batch 500 / 625] loss: 1.099\n",
            "[Batch 625 / 625] loss: 1.130\n",
            "(Epoch 15 / 15) train acc: 82.00%; val_acc: 54.21%\n"
          ],
          "name": "stdout"
        },
        {
          "output_type": "display_data",
          "data": {
            "image/png": "[encoded data removed]",
            "text/plain": [
              "<Figure size 432x288 with 1 Axes>"
            ]
          },
          "metadata": {
            "tags": []
          }
        },
        {
          "output_type": "display_data",
          "data": {
            "image/png": "[encoded data removed]",
            "text/plain": [
              "<Figure size 432x288 with 1 Axes>"
            ]
          },
          "metadata": {
            "tags": []
          }
        }
      ]
    },
    {
      "cell_type": "markdown",
      "metadata": {
        "colab_type": "text",
        "id": "pLES_37SM6_N"
      },
      "source": [
        "#### 3.6. Test: \n",
        "Run the following cell and test your network."
      ]
    },
    {
      "cell_type": "code",
      "metadata": {
        "colab_type": "code",
        "id": "lw4zW0GPM6cR",
        "outputId": "a88014c2-4fba-4d12-ed8d-cf2212429407",
        "colab": {
          "base_uri": "https://localhost:8080/",
          "height": 34
        }
      },
      "source": [
        "correct = 0\n",
        "total = 0\n",
        "with torch.no_grad():\n",
        "    for data in testloader:\n",
        "        images, labels = data\n",
        "\n",
        "        (b_size, n_channel, w, h) = images.shape\n",
        "        images = images.reshape(b_size, n_channel * w * h)\n",
        "\n",
        "        outputs = net(images)\n",
        "        _, predicted = torch.max(outputs.data, 1)\n",
        "        total += labels.size(0)\n",
        "        correct += (predicted == labels).sum().item()\n",
        "test_acc = correct / total\n",
        "print('Accuracy of the network on the test images: %2f %%' % (100 * test_acc ))"
      ],
      "execution_count": 43,
      "outputs": [
        {
          "output_type": "stream",
          "text": [
            "Accuracy of the network on the test images: 54.030000 %\n"
          ],
          "name": "stdout"
        }
      ]
    },
    {
      "cell_type": "code",
      "metadata": {
        "colab_type": "code",
        "id": "nrnQkpyENTrR",
        "outputId": "e5702ddd-2856-4790-b687-608b330f611c",
        "colab": {
          "base_uri": "https://localhost:8080/",
          "height": 187
        }
      },
      "source": [
        "class_correct = list(0. for i in range(10))\n",
        "class_total = list(0. for i in range(10))\n",
        "with torch.no_grad():\n",
        "    for data in testloader:\n",
        "        images, labels = data\n",
        "\n",
        "        (b_size, n_channel, w, h) = images.shape\n",
        "        images = images.reshape(b_size, n_channel * w * h)\n",
        "\n",
        "        outputs = net(images)\n",
        "        _, predicted = torch.max(outputs, 1)\n",
        "        c = (predicted == labels).squeeze()\n",
        "        for i in range(4):\n",
        "            label = labels[i]\n",
        "            class_correct[label] += c[i].item()\n",
        "            class_total[label] += 1\n",
        "\n",
        "\n",
        "for i in range(10):\n",
        "    print('Accuracy of %5s : %2d %%' % (classes[i], 100 * class_correct[i] / class_total[i]))"
      ],
      "execution_count": 44,
      "outputs": [
        {
          "output_type": "stream",
          "text": [
            "Accuracy of plane : 66 %\n",
            "Accuracy of   car : 74 %\n",
            "Accuracy of  bird : 45 %\n",
            "Accuracy of   cat : 38 %\n",
            "Accuracy of  deer : 38 %\n",
            "Accuracy of   dog : 40 %\n",
            "Accuracy of  frog : 53 %\n",
            "Accuracy of horse : 64 %\n",
            "Accuracy of  ship : 67 %\n",
            "Accuracy of truck : 50 %\n"
          ],
          "name": "stdout"
        }
      ]
    }
  ]
}