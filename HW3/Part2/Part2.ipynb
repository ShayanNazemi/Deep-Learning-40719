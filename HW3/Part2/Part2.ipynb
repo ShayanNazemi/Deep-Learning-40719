{
 "cells": [
  {
   "cell_type": "markdown",
   "metadata": {},
   "source": [
    "# CE-40719: Deep Learning\n",
    "## HW3 - CNN / CNN Case Studies / CNN Applications\n",
    "(23 points)\n",
    "\n",
    "#### Name:\n",
    "#### Student No.:"
   ]
  },
  {
   "cell_type": "markdown",
   "metadata": {},
   "source": [
    "In this assignment we go through the following topics:\n",
    "- Writing custome pytorch modules\n",
    "- Using `tensorboard` for logging and visualization\n",
    "- Data Augmentation\n",
    "- Saving / Loading Models\n",
    "\n",
    "Please Keep in mind that:\n",
    "- You can not use out-of-the-box pytorch modules (nn.Conv2d, nn.Linear, nn.BatchNorm, nn.Dropout, ...)\n",
    "- You can run this notebook on your computer. If you prefer using Google Colab you may lose some of the functionalities of `tensorboard` (like Projector). You can install `tensorboard` on your computer using package manager of your choice, and download `runs` folder from Google Colab and run it locally using `tensorboard --logdir=runs`.\n",
    "- Use the [documentation](https://pytorch.org/docs/stable/index.html).\n",
    "\n",
    "In this assignment we are going to train a convolutional neural network to classify images from [fashion-mnist](https://github.com/zalandoresearch/fashion-mnist) dataset. Fashion-mnist is a simple dataset containing 60000 training and 10000 test $28 \\times 28$ grayscale images of 10 different classes. Each class corresponds to a different kind of clothing. \n",
    "\n",
    "## 1. Setup (1.5 pts)"
   ]
  },
  {
   "cell_type": "code",
   "execution_count": null,
   "metadata": {
    "colab": {
     "base_uri": "https://localhost:8080/",
     "height": 34
    },
    "colab_type": "code",
    "executionInfo": {
     "elapsed": 1142,
     "status": "ok",
     "timestamp": 1582622971034,
     "user": {
      "displayName": "Arash A.",
      "photoUrl": "https://lh3.googleusercontent.com/a-/AAuE7mCi1SZ1YSNuNZnAm3zM4lgh2n0YIRBOdCIpi3E_=s64",
      "userId": "08641177675910742869"
     },
     "user_tz": -210
    },
    "id": "YefZWKdV2ehA",
    "outputId": "9f9b5c8a-9a88-4622-9980-bec6637409c3"
   },
   "outputs": [],
   "source": [
    "import torch\n",
    "from torch import nn, optim\n",
    "from torch.nn import functional as F\n",
    "from torchvision import datasets, transforms, utils\n",
    "from torch.utils.data import DataLoader\n",
    "from torch.utils.tensorboard import SummaryWriter"
   ]
  },
  {
   "cell_type": "code",
   "execution_count": null,
   "metadata": {
    "colab": {
     "base_uri": "https://localhost:8080/",
     "height": 34
    },
    "colab_type": "code",
    "executionInfo": {
     "elapsed": 917,
     "status": "ok",
     "timestamp": 1582622974035,
     "user": {
      "displayName": "Arash A.",
      "photoUrl": "https://lh3.googleusercontent.com/a-/AAuE7mCi1SZ1YSNuNZnAm3zM4lgh2n0YIRBOdCIpi3E_=s64",
      "userId": "08641177675910742869"
     },
     "user_tz": -210
    },
    "id": "VT1aKupTz902",
    "outputId": "4d084d12-040b-4628-c86f-9b819fcbe1c5"
   },
   "outputs": [],
   "source": [
    "print(torch.__version__)"
   ]
  },
  {
   "cell_type": "markdown",
   "metadata": {},
   "source": [
    "To easily train your model on different gpu devices or your computer's cpu you can define a `torch.device` object corresponding to that device and use `.to(device)` method to easily move modules or tensors to different devices. Pytorch provides helper functions in [torch.cuda](https://pytorch.org/docs/stable/cuda.html) package."
   ]
  },
  {
   "cell_type": "code",
   "execution_count": null,
   "metadata": {},
   "outputs": [],
   "source": [
    "#################################################################################\n",
    "#                          COMPLETE THE FOLLOWING SECTION                       #\n",
    "#################################################################################\n",
    "# create a cpu device if cuda is not available or cuda_device=None otherwise\n",
    "# create a cuda:{cuda_device} device.\n",
    "#################################################################################\n",
    "cuda_device = \n",
    "pass\n",
    "#################################################################################\n",
    "#                                   THE END                                     #\n",
    "#################################################################################\n",
    "print(device)"
   ]
  },
  {
   "cell_type": "markdown",
   "metadata": {},
   "source": [
    "Fashion-mnist dataset is available in `torchvision.datasets` package."
   ]
  },
  {
   "cell_type": "code",
   "execution_count": null,
   "metadata": {
    "colab": {},
    "colab_type": "code",
    "id": "gYm5KjpuQ0VX"
   },
   "outputs": [],
   "source": [
    "batch_size = 32\n",
    "#################################################################################\n",
    "#                          COMPLETE THE FOLLOWING SECTION                       #\n",
    "#################################################################################\n",
    "# Initialize and download trainset and testset with datasets.FashionMNIST and \n",
    "# transform data into torch.Tensor. Initialize trainloader and testloader with \n",
    "# given batch_size.\n",
    "#################################################################################\n",
    "\n",
    "transform = \n",
    "trainset = \n",
    "testset = \n",
    "\n",
    "trainloader = \n",
    "testloader = \n",
    "\n",
    "#################################################################################\n",
    "#                                   THE END                                     #\n",
    "#################################################################################\n",
    "classes = ('T-shirt/top', 'Trouser', 'Pullover', 'Dress', 'Coat',\n",
    "           'Sandal', 'Shirt', 'Sneaker', 'Bag', 'Ankle Boot')"
   ]
  },
  {
   "cell_type": "markdown",
   "metadata": {},
   "source": [
    "To get a sense of data it is always helpfull to see a few of samples. We can do this using `tensorboard`. Please read [this](https://pytorch.org/docs/stable/tensorboard.html) documentation page to get familiar with tensorboard. Run the following cell to intialize a SummaryWriter and log some of the training images to tensorboard. You can run tensorboard using `tensorboard --logdir=runs` and view images."
   ]
  },
  {
   "cell_type": "code",
   "execution_count": null,
   "metadata": {
    "colab": {},
    "colab_type": "code",
    "id": "yOaW3VX4INws"
   },
   "outputs": [],
   "source": [
    "writer = SummaryWriter('./runs/FashionMNIST')\n",
    "\n",
    "dataiter = iter(trainloader)\n",
    "images, labels = dataiter.next()\n",
    "\n",
    "img_grid = utils.make_grid(images[:16], nrow=4)\n",
    "\n",
    "writer.add_image('FashionMNIST', img_grid)"
   ]
  },
  {
   "cell_type": "markdown",
   "metadata": {},
   "source": [
    "We can also visualize data (or any representation of it) using dimmensionality reduction techniques provided by tensorboard. The following cell adds raw pixel values as embeddings to visualize data. You can see visualizations in projector tab of tensorboard after running the following cell."
   ]
  },
  {
   "cell_type": "code",
   "execution_count": null,
   "metadata": {
    "colab": {
     "base_uri": "https://localhost:8080/",
     "height": 340
    },
    "colab_type": "code",
    "executionInfo": {
     "elapsed": 2189,
     "status": "error",
     "timestamp": 1582622739930,
     "user": {
      "displayName": "Arash A.",
      "photoUrl": "https://lh3.googleusercontent.com/a-/AAuE7mCi1SZ1YSNuNZnAm3zM4lgh2n0YIRBOdCIpi3E_=s64",
      "userId": "08641177675910742869"
     },
     "user_tz": -210
    },
    "id": "bML1OI8kkmJv",
    "outputId": "0ee5cf10-a65e-419f-c50e-b8a25bcbd80e"
   },
   "outputs": [],
   "source": [
    "def select_n_random(data, labels, n=100):\n",
    "    perm = torch.randperm(len(data))\n",
    "    return data[perm][:n], labels[perm][:n]\n",
    "\n",
    "nimages, nlabels = select_n_random(trainset.data, trainset.targets)\n",
    "\n",
    "writer.add_embedding(nimages.view(-1, 28 * 28), \n",
    "                     metadata=[classes[label] for label in nlabels],\n",
    "                     label_img=nimages.unsqueeze(1), \n",
    "                     tag='raw_pixels')\n",
    "writer.flush()"
   ]
  },
  {
   "cell_type": "markdown",
   "metadata": {},
   "source": [
    "## 2. Modules (7 pts)"
   ]
  },
  {
   "cell_type": "markdown",
   "metadata": {},
   "source": [
    "In this part you will define all the required modules for a convolutional model. You can only use functional package `torch.nn.functional` unless stated otherwise.\n",
    "\n",
    "### 2.1 Convolution Module (1.5 pts)"
   ]
  },
  {
   "cell_type": "code",
   "execution_count": null,
   "metadata": {
    "colab": {},
    "colab_type": "code",
    "id": "lVXQl0hcScTT"
   },
   "outputs": [],
   "source": [
    "#################################################################################\n",
    "#                          COMPLETE THE FOLLOWING SECTION                       #\n",
    "#################################################################################\n",
    "# define convolution parameters using nn.Parameter.\n",
    "# initialize weihgt using nn.init.kaiming_uniform and bias by zeroes\n",
    "# use F.conv2d in forward method.\n",
    "#################################################################################\n",
    "class Conv2d(nn.Module):\n",
    "    def __init__(self, in_channels, out_channels, kernel_size, stride=1, padding=0, bias=True):\n",
    "        super(Conv2d, self).__init__()\n",
    "        pass\n",
    "\n",
    "    def forward(self, x):\n",
    "        out = \n",
    "        return out\n",
    "#################################################################################\n",
    "#                                   THE END                                     #\n",
    "#################################################################################"
   ]
  },
  {
   "cell_type": "markdown",
   "metadata": {},
   "source": [
    "### 2.2 Linear (Fully-connected) Module (1.5 pts)"
   ]
  },
  {
   "cell_type": "code",
   "execution_count": null,
   "metadata": {
    "colab": {},
    "colab_type": "code",
    "id": "yiJ9vDc2QlrA"
   },
   "outputs": [],
   "source": [
    "#################################################################################\n",
    "#                          COMPLETE THE FOLLOWING SECTION                       #\n",
    "#################################################################################\n",
    "# define parameters using nn.Parameter.\n",
    "# initialize weihgt using nn.init.kaiming_uniform and bias by zeroes\n",
    "# use F.linear in forward method.\n",
    "#################################################################################\n",
    "class Linear(nn.Module):\n",
    "    def __init__(self, in_features, out_features, bias=True):\n",
    "        super(Linear, self).__init__()\n",
    "        pass\n",
    "\n",
    "    def forward(self, x):\n",
    "        out = \n",
    "        return out\n",
    "#################################################################################\n",
    "#                                   THE END                                     #\n",
    "#################################################################################"
   ]
  },
  {
   "cell_type": "markdown",
   "metadata": {},
   "source": [
    "### 2.3 1D Batch Normalization Module (2 pts)"
   ]
  },
  {
   "cell_type": "code",
   "execution_count": null,
   "metadata": {},
   "outputs": [],
   "source": [
    "#################################################################################\n",
    "#                          COMPLETE THE FOLLOWING SECTION                       #\n",
    "#################################################################################\n",
    "# define and intitialize running_mean and running_var by zeroes and ones\n",
    "# respectively.\n",
    "# define weight and bias using nn.Parameter. initialize weights to a \n",
    "# normal distribution (std=1) and bias to zero.\n",
    "# use F.batch_norm in forward method.\n",
    "# use self.training to differ between training and test phase.\n",
    "#################################################################################\n",
    "class BatchNorm(nn.Module):\n",
    "    def __init__(self, num_features):\n",
    "        super(BatchNorm, self).__init__()\n",
    "        pass\n",
    "        \n",
    "    def forward(self, x):\n",
    "        out = \n",
    "        return out\n",
    "#################################################################################\n",
    "#                                   THE END                                     #\n",
    "#################################################################################"
   ]
  },
  {
   "cell_type": "markdown",
   "metadata": {},
   "source": [
    "### 2.4 2D Batch Normalization Module (2 pts)"
   ]
  },
  {
   "cell_type": "code",
   "execution_count": null,
   "metadata": {},
   "outputs": [],
   "source": [
    "#################################################################################\n",
    "#                          COMPLETE THE FOLLOWING SECTION                       #\n",
    "#################################################################################\n",
    "# define and intitialize running_mean and running_var by zeroes and ones\n",
    "# respectively.\n",
    "# define weight and bias using nn.Parameter. initialize weights to a\n",
    "# normal distribution (std=1) and bias to zero.\n",
    "# use F.batch_norm in forward method.\n",
    "# use self.training to differ between training and test phase.\n",
    "# more info on 2d batch normalization:\n",
    "# https://stackoverflow.com/questions/38553927/batch-normalization-in-convolutional-neural-network\n",
    "#################################################################################\n",
    "class BatchNorm2d(nn.Module):\n",
    "    def __init__(self, num_features):\n",
    "        super(BatchNorm2d, self).__init__()\n",
    "        pass\n",
    "        \n",
    "    def forward(self, x):\n",
    "        out = \n",
    "        return out\n",
    "#################################################################################\n",
    "#                                   THE END                                     #\n",
    "#################################################################################"
   ]
  },
  {
   "cell_type": "markdown",
   "metadata": {},
   "source": [
    "## 3. Model (3.5 pts)\n",
    "\n",
    "Using the modules defined in previous part define the following model:\n",
    "\n",
    "`[Conv2d(3, 3), channels=8, stride=1, padding=1] > [BatchNorm2d] > [relu]`\n",
    "\n",
    "`[Conv2d(5, 5), channels=16, stride=1, padding=0] > [BatchNorm2d] > [relu] > [max_pool2d(2, 2), stride=(2, 2), padding=0]`\n",
    "\n",
    "`[Conv2d(5, 5), channels=32, stride=1, padding=0] > [BatchNorm2d] > [relu] > [max_pool2d(2, 2), stride=(2, 2), padding=0]`\n",
    "\n",
    "`[Linear(128)] > [BatchNorm] > [relu]`\n",
    "\n",
    "`[Linear(64)] > [BatchNorm] > [relu]`        __(features)__\n",
    "\n",
    "`[Linear(10)]`"
   ]
  },
  {
   "cell_type": "code",
   "execution_count": null,
   "metadata": {
    "colab": {},
    "colab_type": "code",
    "id": "HCsSJAXKbamz"
   },
   "outputs": [],
   "source": [
    "#################################################################################\n",
    "#                          COMPLETE THE FOLLOWING SECTION                       #\n",
    "#################################################################################\n",
    "\n",
    "class Model(nn.Module):\n",
    "    def __init__(self, dropout=None):\n",
    "        super(Model, self).__init__()\n",
    "        pass\n",
    "\n",
    "    def forward(self, x):\n",
    "        pass\n",
    "        return out, features\n",
    "#################################################################################\n",
    "#                                   THE END                                     #\n",
    "#################################################################################"
   ]
  },
  {
   "cell_type": "markdown",
   "metadata": {},
   "source": [
    "## 4. Training the Model (5 pts)"
   ]
  },
  {
   "cell_type": "code",
   "execution_count": null,
   "metadata": {
    "scrolled": true
   },
   "outputs": [],
   "source": [
    "def train(model, optimizer, trainloader, testloader, device, num_epoches, label):\n",
    "#################################################################################\n",
    "#                          COMPLETE THE FOLLOWING SECTION                       #\n",
    "#################################################################################\n",
    "# write the main training loop procedure:\n",
    "# move data to defined device\n",
    "# zero_grad optimizer\n",
    "# forward\n",
    "# compute loss using F.cross_entropy\n",
    "# backward\n",
    "# step the optimizer\n",
    "# accumulate running loss\n",
    "#################################################################################\n",
    "    for epoch in range(num_epoches):\n",
    "        print('EPOCH {:2d}:'.format(epoch + 1))\n",
    "        running_loss = 0.\n",
    "        for i, (x, y) in enumerate(trainloader):\n",
    "            pass\n",
    "#################################################################################\n",
    "#                                   THE END                                     #\n",
    "#################################################################################\n",
    "       \n",
    "#################################################################################\n",
    "#                          COMPLETE THE FOLLOWING SECTION                       #\n",
    "#################################################################################\n",
    "# compute test loss:\n",
    "# dont forget to change model mode from train to eval\n",
    "# write the code in a with torch.no_grad() block to prevent computing and \n",
    "# accumulating gradients\n",
    "# accumulate loss in test_loss variable\n",
    "#################################################################################\n",
    "            if i % 100 == 99:\n",
    "                test_loss = 0.\n",
    "                pass\n",
    "#################################################################################\n",
    "#                                   THE END                                     #\n",
    "#################################################################################\n",
    "                writer.add_scalars('loss/'+label, \n",
    "                                   {'train': running_loss/100, 'test': test_loss/len(testloader)},\n",
    "                                  global_step=epoch * len(trainloader) + i + 1)\n",
    "                writer.flush()\n",
    "                print('\\titeration {:4d}: training_loss = {:5f}, test_loss = {:5f}'.format(i + 1, running_loss/100, test_loss/len(testloader)))\n",
    "                running_loss = 0.\n",
    "#################################################################################\n",
    "#                          COMPLETE THE FOLLOWING SECTION                       #\n",
    "#################################################################################\n",
    "# compute test accuracy:\n",
    "# dont forget to change model mode from train to eval\n",
    "# write the code in a with torch.no_grad() block to prevent computing and \n",
    "# accumulating gradients\n",
    "# accumulate number of correct predictions in correct variable and total test\n",
    "# samples in total variable\n",
    "# accumulate number of classwise correct predictions in class_correct list \n",
    "# and total classwise test samples in class_total list\n",
    "#################################################################################\n",
    "        model.eval()\n",
    "        with torch.no_grad():\n",
    "            correct = 0\n",
    "            total = 0\n",
    "            \n",
    "            class_correct = [0.] * 10\n",
    "            class_total = [0.] * 10\n",
    "            pass\n",
    "#################################################################################\n",
    "#                                   THE END                                     #\n",
    "#################################################################################\n",
    "        writer.add_scalars('accuracy/'+label, {'test': correct / total},\n",
    "                           global_step=(epoch + 1) * len(trainloader))\n",
    "        print('test_accuracy = {:5f}'.format(correct / total))\n",
    "        \n",
    "        writer.add_scalars('classwise_accuracy/'+label, \n",
    "                           {classes[i]: class_correct[i]/class_total[i] for i in range(10)},\n",
    "                           global_step=(epoch + 1) * len(trainloader))\n",
    "        for i in range(10):\n",
    "            print('  >> {:11s}: {:5f}'.format(classes[i], class_correct[i]/class_total[i]))\n",
    "            \n",
    "        writer.flush()\n",
    "        torch.save(model.state_dict(), './saved_models/model_{}.chkpt'.format(label))"
   ]
  },
  {
   "cell_type": "code",
   "execution_count": null,
   "metadata": {},
   "outputs": [],
   "source": [
    "#################################################################################\n",
    "#                          COMPLETE THE FOLLOWING SECTION                       #\n",
    "#################################################################################\n",
    "# initilize model and train for 10 epoches using Adam optimizer\n",
    "#################################################################################\n",
    "num_epoches = 10\n",
    "pass\n",
    "\n",
    "writer.add_graph(model, images)\n",
    "train(model, optimizer, trainloader, testloader, device, num_epoches, 'base')\n",
    "#################################################################################\n",
    "#                                   THE END                                     #\n",
    "#################################################################################"
   ]
  },
  {
   "cell_type": "code",
   "execution_count": null,
   "metadata": {},
   "outputs": [],
   "source": [
    "#################################################################################\n",
    "#                          COMPLETE THE FOLLOWING SECTION                       #\n",
    "#################################################################################\n",
    "# add model features corresponding to nimages as embedding to tensorboard\n",
    "#################################################################################\n",
    "pass\n",
    "writer.flush()\n",
    "#################################################################################\n",
    "#                                   THE END                                     #\n",
    "#################################################################################"
   ]
  },
  {
   "cell_type": "markdown",
   "metadata": {},
   "source": [
    "## 5. Dropout and Data Augmentation (6 pts)\n",
    "\n",
    "Add dropout with p=0.5 to first two linear layers of the model using `F.dropout`. You can either modify the model module to take an additional parameter or write a seperate module. \n",
    "\n",
    "Data Augmentation is a strategy for increasing dataset size to prevent overfitting and better generalization. Dataset can be augmented by any transformation on data that do not change its label.\n",
    "\n",
    "Pytorch provides data augmentation transforms in `torchvision.transforms` package."
   ]
  },
  {
   "cell_type": "code",
   "execution_count": null,
   "metadata": {},
   "outputs": [],
   "source": [
    "#################################################################################\n",
    "#                          COMPLETE THE FOLLOWING SECTION                       #\n",
    "#################################################################################\n",
    "# compose a transform using transforms.Compose that horizontally flips images \n",
    "# and use transforms.RandomResizedCrop to crop a 20 * 20 patch of the image \n",
    "# and resizing back to 28 * 28\n",
    "#################################################################################\n",
    "transform = \n",
    "trainset = \n",
    "testset = \n",
    "\n",
    "trainloader = \n",
    "testloader = \n",
    "\n",
    "#################################################################################\n",
    "#                                   THE END                                     #\n",
    "#################################################################################"
   ]
  },
  {
   "cell_type": "code",
   "execution_count": null,
   "metadata": {},
   "outputs": [],
   "source": [
    "dataiter = iter(trainloader)\n",
    "images, labels = dataiter.next()\n",
    "\n",
    "img_grid = utils.make_grid(images[:16], nrow=4)\n",
    "\n",
    "writer.add_image('FashionMNIST/augmented', img_grid)\n",
    "writer.flush()"
   ]
  },
  {
   "cell_type": "code",
   "execution_count": null,
   "metadata": {},
   "outputs": [],
   "source": [
    "#################################################################################\n",
    "#                          COMPLETE THE FOLLOWING SECTION                       #\n",
    "#################################################################################\n",
    "# initilize model and train using augmented dataset for 10 epoches\n",
    "#################################################################################\n",
    "pass\n",
    "\n",
    "writer.add_graph(model, images)\n",
    "train(model2, optimizer, trainloader, testloader, device, num_epoches, 'dropout')\n",
    "#################################################################################\n",
    "#                                   THE END                                     #\n",
    "#################################################################################"
   ]
  },
  {
   "cell_type": "code",
   "execution_count": null,
   "metadata": {},
   "outputs": [],
   "source": [
    "#################################################################################\n",
    "#                          COMPLETE THE FOLLOWING SECTION                       #\n",
    "#################################################################################\n",
    "# add model features corresponding to nimages as embedding to tensorboard\n",
    "#################################################################################\n",
    "pass\n",
    "\n",
    "writer.flush()\n",
    "writer.close()\n",
    "#################################################################################\n",
    "#                                   THE END                                     #\n",
    "#################################################################################"
   ]
  }
 ],
 "metadata": {
  "accelerator": "GPU",
  "colab": {
   "authorship_tag": "ABX9TyNls7P+LTHeC3+xaIuU0XWs",
   "collapsed_sections": [],
   "name": "mnist.ipynb",
   "provenance": [],
   "toc_visible": true
  },
  "kernelspec": {
   "display_name": "Python 3",
   "language": "python",
   "name": "python3"
  },
  "language_info": {
   "codemirror_mode": {
    "name": "ipython",
    "version": 3
   },
   "file_extension": ".py",
   "mimetype": "text/x-python",
   "name": "python",
   "nbconvert_exporter": "python",
   "pygments_lexer": "ipython3",
   "version": "3.5.4"
  }
 },
 "nbformat": 4,
 "nbformat_minor": 4
}
