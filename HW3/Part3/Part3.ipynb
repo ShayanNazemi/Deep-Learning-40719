{
  "nbformat": 4,
  "nbformat_minor": 0,
  "metadata": {
    "accelerator": "GPU",
    "colab": {
      "name": "Part3.ipynb",
      "provenance": [],
      "collapsed_sections": []
    },
    "kernelspec": {
      "display_name": "Python 3",
      "language": "python",
      "name": "python3"
    },
    "language_info": {
      "codemirror_mode": {
        "name": "ipython",
        "version": 3
      },
      "file_extension": ".py",
      "mimetype": "text/x-python",
      "name": "python",
      "nbconvert_exporter": "python",
      "pygments_lexer": "ipython3",
      "version": "3.8.1"
    },
    "widgets": {
      "application/vnd.jupyter.widget-state+json": {
        "0dc082aa0f5e4e6391fe7900f13d8bbb": {
          "model_module": "@jupyter-widgets/controls",
          "model_name": "HBoxModel",
          "state": {
            "_view_name": "HBoxView",
            "_dom_classes": [],
            "_model_name": "HBoxModel",
            "_view_module": "@jupyter-widgets/controls",
            "_model_module_version": "1.5.0",
            "_view_count": null,
            "_view_module_version": "1.5.0",
            "box_style": "",
            "layout": "IPY_MODEL_90f2e52894974ee7bc8ae0197bf1e4f0",
            "_model_module": "@jupyter-widgets/controls",
            "children": [
              "IPY_MODEL_517703aaab9a47c581fe7ca1fabbaf9f",
              "IPY_MODEL_37eb5e6fe25a4a3fb1ce1db7efef9aa0"
            ]
          }
        },
        "90f2e52894974ee7bc8ae0197bf1e4f0": {
          "model_module": "@jupyter-widgets/base",
          "model_name": "LayoutModel",
          "state": {
            "_view_name": "LayoutView",
            "grid_template_rows": null,
            "right": null,
            "justify_content": null,
            "_view_module": "@jupyter-widgets/base",
            "overflow": null,
            "_model_module_version": "1.2.0",
            "_view_count": null,
            "flex_flow": null,
            "width": null,
            "min_width": null,
            "border": null,
            "align_items": null,
            "bottom": null,
            "_model_module": "@jupyter-widgets/base",
            "top": null,
            "grid_column": null,
            "overflow_y": null,
            "overflow_x": null,
            "grid_auto_flow": null,
            "grid_area": null,
            "grid_template_columns": null,
            "flex": null,
            "_model_name": "LayoutModel",
            "justify_items": null,
            "grid_row": null,
            "max_height": null,
            "align_content": null,
            "visibility": null,
            "align_self": null,
            "height": null,
            "min_height": null,
            "padding": null,
            "grid_auto_rows": null,
            "grid_gap": null,
            "max_width": null,
            "order": null,
            "_view_module_version": "1.2.0",
            "grid_template_areas": null,
            "object_position": null,
            "object_fit": null,
            "grid_auto_columns": null,
            "margin": null,
            "display": null,
            "left": null
          }
        },
        "517703aaab9a47c581fe7ca1fabbaf9f": {
          "model_module": "@jupyter-widgets/controls",
          "model_name": "IntProgressModel",
          "state": {
            "_view_name": "ProgressView",
            "style": "IPY_MODEL_8dbe3e34ac424593bb3a7875391a7974",
            "_dom_classes": [],
            "description": "",
            "_model_name": "IntProgressModel",
            "bar_style": "info",
            "max": 1,
            "_view_module": "@jupyter-widgets/controls",
            "_model_module_version": "1.5.0",
            "value": 1,
            "_view_count": null,
            "_view_module_version": "1.5.0",
            "orientation": "horizontal",
            "min": 0,
            "description_tooltip": null,
            "_model_module": "@jupyter-widgets/controls",
            "layout": "IPY_MODEL_0fa61b21b38b486180dc18ccf5892d1d"
          }
        },
        "37eb5e6fe25a4a3fb1ce1db7efef9aa0": {
          "model_module": "@jupyter-widgets/controls",
          "model_name": "HTMLModel",
          "state": {
            "_view_name": "HTMLView",
            "style": "IPY_MODEL_a96f2e190cad427094e9297e58f6bb45",
            "_dom_classes": [],
            "description": "",
            "_model_name": "HTMLModel",
            "placeholder": "​",
            "_view_module": "@jupyter-widgets/controls",
            "_model_module_version": "1.5.0",
            "value": " 170500096/? [00:20&lt;00:00, 31956805.49it/s]",
            "_view_count": null,
            "_view_module_version": "1.5.0",
            "description_tooltip": null,
            "_model_module": "@jupyter-widgets/controls",
            "layout": "IPY_MODEL_eb797cf21b6e42aeb42586da3a8cdd06"
          }
        },
        "8dbe3e34ac424593bb3a7875391a7974": {
          "model_module": "@jupyter-widgets/controls",
          "model_name": "ProgressStyleModel",
          "state": {
            "_view_name": "StyleView",
            "_model_name": "ProgressStyleModel",
            "description_width": "initial",
            "_view_module": "@jupyter-widgets/base",
            "_model_module_version": "1.5.0",
            "_view_count": null,
            "_view_module_version": "1.2.0",
            "bar_color": null,
            "_model_module": "@jupyter-widgets/controls"
          }
        },
        "0fa61b21b38b486180dc18ccf5892d1d": {
          "model_module": "@jupyter-widgets/base",
          "model_name": "LayoutModel",
          "state": {
            "_view_name": "LayoutView",
            "grid_template_rows": null,
            "right": null,
            "justify_content": null,
            "_view_module": "@jupyter-widgets/base",
            "overflow": null,
            "_model_module_version": "1.2.0",
            "_view_count": null,
            "flex_flow": null,
            "width": null,
            "min_width": null,
            "border": null,
            "align_items": null,
            "bottom": null,
            "_model_module": "@jupyter-widgets/base",
            "top": null,
            "grid_column": null,
            "overflow_y": null,
            "overflow_x": null,
            "grid_auto_flow": null,
            "grid_area": null,
            "grid_template_columns": null,
            "flex": null,
            "_model_name": "LayoutModel",
            "justify_items": null,
            "grid_row": null,
            "max_height": null,
            "align_content": null,
            "visibility": null,
            "align_self": null,
            "height": null,
            "min_height": null,
            "padding": null,
            "grid_auto_rows": null,
            "grid_gap": null,
            "max_width": null,
            "order": null,
            "_view_module_version": "1.2.0",
            "grid_template_areas": null,
            "object_position": null,
            "object_fit": null,
            "grid_auto_columns": null,
            "margin": null,
            "display": null,
            "left": null
          }
        },
        "a96f2e190cad427094e9297e58f6bb45": {
          "model_module": "@jupyter-widgets/controls",
          "model_name": "DescriptionStyleModel",
          "state": {
            "_view_name": "StyleView",
            "_model_name": "DescriptionStyleModel",
            "description_width": "",
            "_view_module": "@jupyter-widgets/base",
            "_model_module_version": "1.5.0",
            "_view_count": null,
            "_view_module_version": "1.2.0",
            "_model_module": "@jupyter-widgets/controls"
          }
        },
        "eb797cf21b6e42aeb42586da3a8cdd06": {
          "model_module": "@jupyter-widgets/base",
          "model_name": "LayoutModel",
          "state": {
            "_view_name": "LayoutView",
            "grid_template_rows": null,
            "right": null,
            "justify_content": null,
            "_view_module": "@jupyter-widgets/base",
            "overflow": null,
            "_model_module_version": "1.2.0",
            "_view_count": null,
            "flex_flow": null,
            "width": null,
            "min_width": null,
            "border": null,
            "align_items": null,
            "bottom": null,
            "_model_module": "@jupyter-widgets/base",
            "top": null,
            "grid_column": null,
            "overflow_y": null,
            "overflow_x": null,
            "grid_auto_flow": null,
            "grid_area": null,
            "grid_template_columns": null,
            "flex": null,
            "_model_name": "LayoutModel",
            "justify_items": null,
            "grid_row": null,
            "max_height": null,
            "align_content": null,
            "visibility": null,
            "align_self": null,
            "height": null,
            "min_height": null,
            "padding": null,
            "grid_auto_rows": null,
            "grid_gap": null,
            "max_width": null,
            "order": null,
            "_view_module_version": "1.2.0",
            "grid_template_areas": null,
            "object_position": null,
            "object_fit": null,
            "grid_auto_columns": null,
            "margin": null,
            "display": null,
            "left": null
          }
        }
      }
    }
  },
  "cells": [
    {
      "cell_type": "markdown",
      "metadata": {
        "colab_type": "text",
        "id": "PhShOHkoCHQ4"
      },
      "source": [
        "# CE-40719: Deep Learning\n",
        "## HW3 - CNN / CNN Case Studies / CNN Applications\n",
        "(18 points)\n",
        "\n",
        "#### Name: Seyed Shayan Nazemi\n",
        "#### Student No.: 98209037"
      ]
    },
    {
      "cell_type": "markdown",
      "metadata": {
        "colab_type": "text",
        "id": "E8SJVCBZxJQB"
      },
      "source": [
        "In this exercise we are going to implement a simple residual netwrok architecture to classify images from Cifar10 dataset. Here we give you a suggestion for architecture but you are allowed to  make changes and experiment to get better results. Explain your ideas or reference the papers that you take the ideas from. You are allowed to use out-of-the-box pytorch modules in `torch.nn`."
      ]
    },
    {
      "cell_type": "markdown",
      "metadata": {
        "colab_type": "text",
        "id": "8bd7O4pSrpL1"
      },
      "source": [
        "## Architecture\n",
        "\n",
        "_All convolution layers have `3 * 3` kernel,  `padding=1`, batch normalization and relu activation_\n",
        "\n",
        "__ResidualBlock:__ _in_channel, out_channel, stride_\n",
        "\n",
        "- Conv(in_channel, out_channel, stride)\n",
        "- Conv(out_channel, out_channel, stride=1)\n",
        "\n",
        "`*` This block has a residual connection. To match dimmensions of output and residual use `1 * 1` convolution and stride. \n",
        "\n",
        "__ResidualLayer:__ _in_channel, out_channel, stride_\n",
        "\n",
        "- ResidualBlock(in_channel, out_channel, stride)\n",
        "- ResidualBlock(out_channel, out_channel, stride=1)\n",
        "\n",
        "__ResidualNetwork__:\n",
        "- Conv(3, 64, stride=1)\n",
        "- ResidualLayer(64, 64, stride=1)\n",
        "- ResidualLayer(64, 128, stride=2)\n",
        "- ResidualLayer(128, 256, stride=2)\n",
        "- ResidualLayer(256, 512, stride=2)\n",
        "- AveragePool(4, 4)\n",
        "- Linear(512, 10)\n"
      ]
    },
    {
      "cell_type": "code",
      "metadata": {
        "id": "2QPDVsQXKokZ",
        "colab_type": "code",
        "colab": {}
      },
      "source": [
        "import numpy as np\n",
        "import torch\n",
        "from torch import nn, optim\n",
        "from torch.nn import functional as F\n",
        "from torchvision import datasets, transforms, utils\n",
        "from torch.utils.data import DataLoader\n",
        "from torch.utils.data.sampler import SubsetRandomSampler"
      ],
      "execution_count": 0,
      "outputs": []
    },
    {
      "cell_type": "code",
      "metadata": {
        "id": "fWDu_fpYQsQt",
        "colab_type": "code",
        "colab": {}
      },
      "source": [
        "NUM_WORKERS = 4\n",
        "BATCH_SIZE = 32\n",
        "VAL_SIZE = 0.1\n",
        "N_EPOCHS = 10\n",
        "\n",
        "DEVICE = None\n",
        "if torch.cuda.is_available():\n",
        "    cuda_device = torch.cuda.current_device()\n",
        "    DEVICE = torch.device('cuda', cuda_device)\n",
        "else:\n",
        "    DEVICE = torch.device('cpu', 0)"
      ],
      "execution_count": 0,
      "outputs": []
    },
    {
      "cell_type": "code",
      "metadata": {
        "id": "Vfiew1EVRCFv",
        "colab_type": "code",
        "outputId": "46815d13-deea-418b-8a73-12f51cefc7e5",
        "colab": {
          "base_uri": "https://localhost:8080/",
          "height": 120,
          "referenced_widgets": [
            "0dc082aa0f5e4e6391fe7900f13d8bbb",
            "90f2e52894974ee7bc8ae0197bf1e4f0",
            "517703aaab9a47c581fe7ca1fabbaf9f",
            "37eb5e6fe25a4a3fb1ce1db7efef9aa0",
            "8dbe3e34ac424593bb3a7875391a7974",
            "0fa61b21b38b486180dc18ccf5892d1d",
            "a96f2e190cad427094e9297e58f6bb45",
            "eb797cf21b6e42aeb42586da3a8cdd06"
          ]
        }
      },
      "source": [
        "transform = transforms.Compose([transforms.ToTensor(), transforms.Normalize((0.5, 0.5, 0.5), (0.5, 0.5, 0.5))])\n",
        "\n",
        "train_data = datasets.CIFAR10(root = 'data', train = True, download = True, transform = transform)\n",
        "\n",
        "test_data = datasets.CIFAR10(root = 'data', train = False, download = True, transform = transform)\n",
        "\n",
        "\n",
        "\n",
        "num_train = len(train_data)\n",
        "indices = list(range(num_train))\n",
        "np.random.shuffle(indices)\n",
        "split = int(np.floor(num_train * VAL_SIZE))\n",
        "train_index, val_index = indices[split:], indices[:split]\n",
        "train_sampler = SubsetRandomSampler(train_index)\n",
        "val_sampler = SubsetRandomSampler(val_index)\n",
        "\n",
        "\n",
        "\n",
        "train_loader = torch.utils.data.DataLoader(train_data, sampler=train_sampler, batch_size=BATCH_SIZE, num_workers=NUM_WORKERS)\n",
        "\n",
        "val_loader = torch.utils.data.DataLoader(train_data, sampler=val_sampler, batch_size=BATCH_SIZE, num_workers=NUM_WORKERS)\n",
        "\n",
        "test_loader = torch.utils.data.DataLoader(test_data, batch_size=BATCH_SIZE, num_workers=NUM_WORKERS)"
      ],
      "execution_count": 3,
      "outputs": [
        {
          "output_type": "stream",
          "text": [
            "Downloading https://www.cs.toronto.edu/~kriz/cifar-10-python.tar.gz to data/cifar-10-python.tar.gz\n"
          ],
          "name": "stdout"
        },
        {
          "output_type": "display_data",
          "data": {
            "application/vnd.jupyter.widget-view+json": {
              "model_id": "0dc082aa0f5e4e6391fe7900f13d8bbb",
              "version_minor": 0,
              "version_major": 2
            },
            "text/plain": [
              "HBox(children=(IntProgress(value=1, bar_style='info', max=1), HTML(value='')))"
            ]
          },
          "metadata": {
            "tags": []
          }
        },
        {
          "output_type": "stream",
          "text": [
            "Extracting data/cifar-10-python.tar.gz to data\n",
            "Files already downloaded and verified\n"
          ],
          "name": "stdout"
        }
      ]
    },
    {
      "cell_type": "code",
      "metadata": {
        "id": "x8r-Vt2MLZHV",
        "colab_type": "code",
        "colab": {}
      },
      "source": [
        "class ConvolutionLayer(nn.Module):\n",
        "    def __init__(self, in_channel, out_channel, stride, kernel_size=(3, 3) , padding=1):\n",
        "        super(ConvolutionLayer, self).__init__()\n",
        "        self.conv = nn.Conv2d(in_channel, out_channel, kernel_size=kernel_size, stride=stride, padding=padding)\n",
        "        self.batch = nn.BatchNorm2d(num_features=out_channel)\n",
        "        self.relu = nn.ReLU()\n",
        "\n",
        "    def forward(self, x):\n",
        "        out = self.conv(x)\n",
        "        out = self.batch(out)\n",
        "        out = self.relu(out)\n",
        "        return out"
      ],
      "execution_count": 0,
      "outputs": []
    },
    {
      "cell_type": "code",
      "metadata": {
        "id": "m_0PbAClJexp",
        "colab_type": "code",
        "colab": {}
      },
      "source": [
        "class ResidualBlock(nn.Module):\n",
        "    def __init__(self, in_channel, out_channel, stride):\n",
        "        super(ResidualBlock, self).__init__()\n",
        "        self.conv1 = ConvolutionLayer(in_channel, out_channel, stride=stride)\n",
        "        self.conv2 = ConvolutionLayer(out_channel, out_channel, stride=1)\n",
        "\n",
        "        self.residual_conv = ConvolutionLayer(in_channel, out_channel, stride=stride, kernel_size=(1, 1), padding=0)\n",
        "\n",
        "    def forward(self, x):\n",
        "        out = self.conv1(x)\n",
        "        out = self.conv2(out)\n",
        "        \n",
        "        x_res = self.residual_conv(x)\n",
        "\n",
        "        out += x_res\n",
        "        return out"
      ],
      "execution_count": 0,
      "outputs": []
    },
    {
      "cell_type": "code",
      "metadata": {
        "id": "uU6yWdYhKLyq",
        "colab_type": "code",
        "colab": {}
      },
      "source": [
        "class ResidualLayer(nn.Module):\n",
        "    def __init__(self, in_channel, out_channel, stride):\n",
        "        super(ResidualLayer, self).__init__()\n",
        "        self.res_block1 = ResidualBlock(in_channel, out_channel, stride=stride)\n",
        "        self.res_block2 = ResidualBlock(out_channel, out_channel, stride=1)\n",
        "\n",
        "    def forward(self, x):\n",
        "        out = self.res_block1(x)\n",
        "        out = self.res_block2(out)\n",
        "\n",
        "        return out"
      ],
      "execution_count": 0,
      "outputs": []
    },
    {
      "cell_type": "code",
      "metadata": {
        "id": "7Iqbwxx_Jwyj",
        "colab_type": "code",
        "colab": {}
      },
      "source": [
        "class Model(nn.Module):\n",
        "    def __init__(self):\n",
        "        super(Model, self).__init__()\n",
        "        self.config = {\n",
        "            'conv' : (3, 64, 1), \n",
        "            'res1' : (64, 64, 1), \n",
        "            'res2' : (64, 128, 1), \n",
        "            'res3' : (128, 256, 2), \n",
        "            'res4' : (256, 512, 2),\n",
        "            'pool' : (4, 4),\n",
        "            'linear' : (2048, 10)\n",
        "            }\n",
        "\n",
        "        self.conv = ConvolutionLayer(*self.config['conv'])\n",
        "        self.res1 = ResidualLayer(*self.config['res1'])\n",
        "        self.res2 = ResidualLayer(*self.config['res2'])\n",
        "        self.res3 = ResidualLayer(*self.config['res3'])\n",
        "        self.res4 = ResidualLayer(*self.config['res4'])\n",
        "        self.pool = nn.AvgPool2d(kernel_size=self.config['pool'])\n",
        "        self.linear = nn.Linear(*self.config['linear'])\n",
        "\n",
        "    def forward(self, x):\n",
        "        out = self.conv(x)\n",
        "        out = self.res1(out)\n",
        "        out = self.res2(out)\n",
        "        out = self.res3(out)\n",
        "        out = self.res4(out)\n",
        "        out = self.pool(out)\n",
        "        out = out.view(-1, 2048)\n",
        "        out = self.linear(out)\n",
        "\n",
        "        return out"
      ],
      "execution_count": 0,
      "outputs": []
    },
    {
      "cell_type": "code",
      "metadata": {
        "id": "GELabvQSP5cd",
        "colab_type": "code",
        "colab": {}
      },
      "source": [
        "def train(model, optimizer, train_loader, val_loader, criterion, device, n_epochs):\n",
        "    val_loss_min = np.Inf\n",
        "    for epoch in range(n_epochs):\n",
        "        train_loss = 0\n",
        "        model.train() # set the model state to train state - specially for dropout and batchnorm\n",
        "\n",
        "        for iteration, (data, label) in enumerate(train_loader):\n",
        "            optimizer.zero_grad()\n",
        "            output = model(data.to(device))\n",
        "            loss = criterion(output, label.to(device))\n",
        "            loss.backward()\n",
        "            optimizer.step()\n",
        "            train_loss += loss.item() * data.shape[0]\n",
        "\n",
        "            if iteration % 100 == 0:\n",
        "                is_training = model.training\n",
        "                val_loss = 0\n",
        "                model.eval()\n",
        "                acc_val = 0\n",
        "                with torch.no_grad():\n",
        "                    for data_val, label_val in val_loader:\n",
        "                        output_val = model(data_val.to(device))\n",
        "                        loss = criterion(output_val, label_val.to(device))\n",
        "                        val_loss += loss.item() * data_val.shape[0]\n",
        "                        acc_val += torch.sum(torch.argmax(output_val, dim=1) == label_val.to(device)).item()\n",
        "\n",
        "                val_loss /= len(val_loader.sampler) # averaging loss on all validation set\n",
        "                if val_loss <= val_loss_min :\n",
        "                    print('Iteration : {:4d} \\t Validation Accuracy : {:.6f} - Validation loss decreased ({:.6f} --> {:.6f}). Saving model ...'.format(iteration, acc_val/len(val_loader.sampler), val_loss_min, val_loss))\n",
        "                    torch.save(model.state_dict(), 'model.pt')\n",
        "                    val_loss_min = val_loss\n",
        "\n",
        "            model.train(mode = is_training)\n",
        "        \n",
        "        train_loss /= len(train_loader.sampler)\n",
        "        print('Epoch : {} \\t Training loss {:.6f}'.format(epoch + 1, train_loss))"
      ],
      "execution_count": 0,
      "outputs": []
    },
    {
      "cell_type": "code",
      "metadata": {
        "id": "NcUtVwWNeUZP",
        "colab_type": "code",
        "colab": {}
      },
      "source": [
        "def test(model, test_loader, device):\n",
        "    test_loss = 0.0\n",
        "    num_correct = 0\n",
        "    model.eval()\n",
        "    with torch.no_grad():\n",
        "        for data, target in test_loader:\n",
        "            output = model(data.to(device))\n",
        "            pred = torch.argmax(output, dim = 1)\n",
        "            num_correct += torch.sum(pred == target.to(device)).item()\n",
        "\n",
        "    test_acc = num_correct / len(test_loader.sampler)\n",
        "    print('Test Accuracy: {:.2f}%\\n'.format(test_acc * 100))"
      ],
      "execution_count": 0,
      "outputs": []
    },
    {
      "cell_type": "code",
      "metadata": {
        "id": "OwF4vyEUTLw5",
        "colab_type": "code",
        "outputId": "c1129c2c-4221-475d-9f35-df9374168810",
        "colab": {
          "base_uri": "https://localhost:8080/",
          "height": 921
        }
      },
      "source": [
        "model = Model()\n",
        "model.to(DEVICE)\n",
        "optimizer = optim.Adam(model.parameters())\n",
        "criterion = F.cross_entropy\n",
        "\n",
        "train(model, optimizer, train_loader, val_loader, criterion, DEVICE, N_EPOCHS)"
      ],
      "execution_count": 11,
      "outputs": [
        {
          "output_type": "stream",
          "text": [
            "Iteration :    0 \t Validation Accuracy : 0.100600 - Validation loss decreased (inf --> 2.302870). Saving model ...\n",
            "Iteration :  100 \t Validation Accuracy : 0.282400 - Validation loss decreased (2.302870 --> 1.898354). Saving model ...\n",
            "Iteration :  300 \t Validation Accuracy : 0.389600 - Validation loss decreased (1.898354 --> 1.750025). Saving model ...\n",
            "Iteration :  500 \t Validation Accuracy : 0.425800 - Validation loss decreased (1.750025 --> 1.572589). Saving model ...\n",
            "Iteration :  600 \t Validation Accuracy : 0.416600 - Validation loss decreased (1.572589 --> 1.563126). Saving model ...\n",
            "Iteration :  700 \t Validation Accuracy : 0.443000 - Validation loss decreased (1.563126 --> 1.518974). Saving model ...\n",
            "Iteration :  900 \t Validation Accuracy : 0.470400 - Validation loss decreased (1.518974 --> 1.431534). Saving model ...\n",
            "Iteration : 1100 \t Validation Accuracy : 0.519000 - Validation loss decreased (1.431534 --> 1.352346). Saving model ...\n",
            "Iteration : 1200 \t Validation Accuracy : 0.547800 - Validation loss decreased (1.352346 --> 1.241763). Saving model ...\n",
            "Iteration : 1400 \t Validation Accuracy : 0.577200 - Validation loss decreased (1.241763 --> 1.183315). Saving model ...\n",
            "Epoch : 1 \t Training loss 1.555322\n",
            "Iteration :    0 \t Validation Accuracy : 0.578000 - Validation loss decreased (1.183315 --> 1.178266). Saving model ...\n",
            "Iteration :  100 \t Validation Accuracy : 0.590000 - Validation loss decreased (1.178266 --> 1.142091). Saving model ...\n",
            "Iteration :  300 \t Validation Accuracy : 0.594000 - Validation loss decreased (1.142091 --> 1.124698). Saving model ...\n",
            "Iteration :  400 \t Validation Accuracy : 0.622000 - Validation loss decreased (1.124698 --> 1.072021). Saving model ...\n",
            "Iteration :  500 \t Validation Accuracy : 0.625200 - Validation loss decreased (1.072021 --> 1.043025). Saving model ...\n",
            "Iteration :  600 \t Validation Accuracy : 0.637800 - Validation loss decreased (1.043025 --> 1.008862). Saving model ...\n",
            "Iteration :  900 \t Validation Accuracy : 0.670200 - Validation loss decreased (1.008862 --> 0.962108). Saving model ...\n",
            "Iteration : 1200 \t Validation Accuracy : 0.683600 - Validation loss decreased (0.962108 --> 0.892706). Saving model ...\n",
            "Iteration : 1400 \t Validation Accuracy : 0.694600 - Validation loss decreased (0.892706 --> 0.888111). Saving model ...\n",
            "Epoch : 2 \t Training loss 1.023650\n",
            "Iteration :  300 \t Validation Accuracy : 0.706800 - Validation loss decreased (0.888111 --> 0.829482). Saving model ...\n",
            "Iteration :  500 \t Validation Accuracy : 0.714400 - Validation loss decreased (0.829482 --> 0.797453). Saving model ...\n",
            "Iteration :  600 \t Validation Accuracy : 0.725400 - Validation loss decreased (0.797453 --> 0.794890). Saving model ...\n",
            "Iteration :  800 \t Validation Accuracy : 0.727200 - Validation loss decreased (0.794890 --> 0.781406). Saving model ...\n",
            "Iteration : 1100 \t Validation Accuracy : 0.732600 - Validation loss decreased (0.781406 --> 0.768861). Saving model ...\n",
            "Iteration : 1300 \t Validation Accuracy : 0.744800 - Validation loss decreased (0.768861 --> 0.751411). Saving model ...\n",
            "Iteration : 1400 \t Validation Accuracy : 0.756000 - Validation loss decreased (0.751411 --> 0.701909). Saving model ...\n",
            "Epoch : 3 \t Training loss 0.781176\n",
            "Iteration :  300 \t Validation Accuracy : 0.754600 - Validation loss decreased (0.701909 --> 0.697933). Saving model ...\n",
            "Iteration :  600 \t Validation Accuracy : 0.763800 - Validation loss decreased (0.697933 --> 0.692294). Saving model ...\n",
            "Iteration :  700 \t Validation Accuracy : 0.771000 - Validation loss decreased (0.692294 --> 0.677181). Saving model ...\n",
            "Iteration : 1000 \t Validation Accuracy : 0.774400 - Validation loss decreased (0.677181 --> 0.653643). Saving model ...\n",
            "Iteration : 1200 \t Validation Accuracy : 0.782000 - Validation loss decreased (0.653643 --> 0.651765). Saving model ...\n",
            "Iteration : 1300 \t Validation Accuracy : 0.799000 - Validation loss decreased (0.651765 --> 0.589420). Saving model ...\n",
            "Epoch : 4 \t Training loss 0.628055\n",
            "Iteration : 1100 \t Validation Accuracy : 0.806200 - Validation loss decreased (0.589420 --> 0.553665). Saving model ...\n",
            "Epoch : 5 \t Training loss 0.507028\n",
            "Iteration :    0 \t Validation Accuracy : 0.814800 - Validation loss decreased (0.553665 --> 0.543237). Saving model ...\n",
            "Iteration :  700 \t Validation Accuracy : 0.829200 - Validation loss decreased (0.543237 --> 0.529429). Saving model ...\n",
            "Epoch : 6 \t Training loss 0.407043\n",
            "Iteration : 1000 \t Validation Accuracy : 0.835200 - Validation loss decreased (0.529429 --> 0.524904). Saving model ...\n",
            "Iteration : 1200 \t Validation Accuracy : 0.830000 - Validation loss decreased (0.524904 --> 0.521451). Saving model ...\n",
            "Iteration : 1300 \t Validation Accuracy : 0.834000 - Validation loss decreased (0.521451 --> 0.520261). Saving model ...\n",
            "Iteration : 1400 \t Validation Accuracy : 0.836200 - Validation loss decreased (0.520261 --> 0.500380). Saving model ...\n",
            "Epoch : 7 \t Training loss 0.321075\n",
            "Iteration :    0 \t Validation Accuracy : 0.837200 - Validation loss decreased (0.500380 --> 0.498793). Saving model ...\n",
            "Iteration :  200 \t Validation Accuracy : 0.849800 - Validation loss decreased (0.498793 --> 0.494617). Saving model ...\n",
            "Epoch : 8 \t Training loss 0.230348\n",
            "Iteration :    0 \t Validation Accuracy : 0.849600 - Validation loss decreased (0.494617 --> 0.480382). Saving model ...\n",
            "Epoch : 9 \t Training loss 0.165978\n",
            "Epoch : 10 \t Training loss 0.117914\n"
          ],
          "name": "stdout"
        }
      ]
    },
    {
      "cell_type": "code",
      "metadata": {
        "id": "vOPpNBbCT1sT",
        "colab_type": "code",
        "outputId": "c48ef9fe-1806-4662-b152-ecf05b2b872c",
        "colab": {
          "base_uri": "https://localhost:8080/",
          "height": 51
        }
      },
      "source": [
        "model = Model()\n",
        "model.to(DEVICE)\n",
        "model.load_state_dict(torch.load('model.pt'))\n",
        "test(model, test_loader, DEVICE)"
      ],
      "execution_count": 12,
      "outputs": [
        {
          "output_type": "stream",
          "text": [
            "Test Accuracy: 83.66%\n",
            "\n"
          ],
          "name": "stdout"
        }
      ]
    }
  ]
}