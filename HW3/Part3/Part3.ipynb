{
  "nbformat": 4,
  "nbformat_minor": 0,
  "metadata": {
    "accelerator": "GPU",
    "colab": {
      "name": "Part3.ipynb",
      "provenance": [],
      "collapsed_sections": [],
      "toc_visible": true
    },
    "kernelspec": {
      "display_name": "Python 3",
      "language": "python",
      "name": "python3"
    },
    "language_info": {
      "codemirror_mode": {
        "name": "ipython",
        "version": 3
      },
      "file_extension": ".py",
      "mimetype": "text/x-python",
      "name": "python",
      "nbconvert_exporter": "python",
      "pygments_lexer": "ipython3",
      "version": "3.8.1"
    },
    "widgets": {
      "application/vnd.jupyter.widget-state+json": {
        "6840745f559e4fb387e4c8f314cfc1ba": {
          "model_module": "@jupyter-widgets/controls",
          "model_name": "HBoxModel",
          "state": {
            "_view_name": "HBoxView",
            "_dom_classes": [],
            "_model_name": "HBoxModel",
            "_view_module": "@jupyter-widgets/controls",
            "_model_module_version": "1.5.0",
            "_view_count": null,
            "_view_module_version": "1.5.0",
            "box_style": "",
            "layout": "IPY_MODEL_907c48277239463482d4d4b8af7584c0",
            "_model_module": "@jupyter-widgets/controls",
            "children": [
              "IPY_MODEL_d2f5e73309ef4a288018d6cc092a0243",
              "IPY_MODEL_851b7c23be2b4d97a4e6e39e4283b9f6"
            ]
          }
        },
        "907c48277239463482d4d4b8af7584c0": {
          "model_module": "@jupyter-widgets/base",
          "model_name": "LayoutModel",
          "state": {
            "_view_name": "LayoutView",
            "grid_template_rows": null,
            "right": null,
            "justify_content": null,
            "_view_module": "@jupyter-widgets/base",
            "overflow": null,
            "_model_module_version": "1.2.0",
            "_view_count": null,
            "flex_flow": null,
            "width": null,
            "min_width": null,
            "border": null,
            "align_items": null,
            "bottom": null,
            "_model_module": "@jupyter-widgets/base",
            "top": null,
            "grid_column": null,
            "overflow_y": null,
            "overflow_x": null,
            "grid_auto_flow": null,
            "grid_area": null,
            "grid_template_columns": null,
            "flex": null,
            "_model_name": "LayoutModel",
            "justify_items": null,
            "grid_row": null,
            "max_height": null,
            "align_content": null,
            "visibility": null,
            "align_self": null,
            "height": null,
            "min_height": null,
            "padding": null,
            "grid_auto_rows": null,
            "grid_gap": null,
            "max_width": null,
            "order": null,
            "_view_module_version": "1.2.0",
            "grid_template_areas": null,
            "object_position": null,
            "object_fit": null,
            "grid_auto_columns": null,
            "margin": null,
            "display": null,
            "left": null
          }
        },
        "d2f5e73309ef4a288018d6cc092a0243": {
          "model_module": "@jupyter-widgets/controls",
          "model_name": "IntProgressModel",
          "state": {
            "_view_name": "ProgressView",
            "style": "IPY_MODEL_18791d20df894867bee1c63ef0e66556",
            "_dom_classes": [],
            "description": "",
            "_model_name": "IntProgressModel",
            "bar_style": "info",
            "max": 1,
            "_view_module": "@jupyter-widgets/controls",
            "_model_module_version": "1.5.0",
            "value": 1,
            "_view_count": null,
            "_view_module_version": "1.5.0",
            "orientation": "horizontal",
            "min": 0,
            "description_tooltip": null,
            "_model_module": "@jupyter-widgets/controls",
            "layout": "IPY_MODEL_769d6baa6b614c44893975dd64a9c9c6"
          }
        },
        "851b7c23be2b4d97a4e6e39e4283b9f6": {
          "model_module": "@jupyter-widgets/controls",
          "model_name": "HTMLModel",
          "state": {
            "_view_name": "HTMLView",
            "style": "IPY_MODEL_252c7bbdd45b4c819a23ad891c5e48b6",
            "_dom_classes": [],
            "description": "",
            "_model_name": "HTMLModel",
            "placeholder": "​",
            "_view_module": "@jupyter-widgets/controls",
            "_model_module_version": "1.5.0",
            "value": " 170500096/? [00:20&lt;00:00, 53748843.09it/s]",
            "_view_count": null,
            "_view_module_version": "1.5.0",
            "description_tooltip": null,
            "_model_module": "@jupyter-widgets/controls",
            "layout": "IPY_MODEL_90cd03e8618b409b9eda45c9adfa4685"
          }
        },
        "18791d20df894867bee1c63ef0e66556": {
          "model_module": "@jupyter-widgets/controls",
          "model_name": "ProgressStyleModel",
          "state": {
            "_view_name": "StyleView",
            "_model_name": "ProgressStyleModel",
            "description_width": "initial",
            "_view_module": "@jupyter-widgets/base",
            "_model_module_version": "1.5.0",
            "_view_count": null,
            "_view_module_version": "1.2.0",
            "bar_color": null,
            "_model_module": "@jupyter-widgets/controls"
          }
        },
        "769d6baa6b614c44893975dd64a9c9c6": {
          "model_module": "@jupyter-widgets/base",
          "model_name": "LayoutModel",
          "state": {
            "_view_name": "LayoutView",
            "grid_template_rows": null,
            "right": null,
            "justify_content": null,
            "_view_module": "@jupyter-widgets/base",
            "overflow": null,
            "_model_module_version": "1.2.0",
            "_view_count": null,
            "flex_flow": null,
            "width": null,
            "min_width": null,
            "border": null,
            "align_items": null,
            "bottom": null,
            "_model_module": "@jupyter-widgets/base",
            "top": null,
            "grid_column": null,
            "overflow_y": null,
            "overflow_x": null,
            "grid_auto_flow": null,
            "grid_area": null,
            "grid_template_columns": null,
            "flex": null,
            "_model_name": "LayoutModel",
            "justify_items": null,
            "grid_row": null,
            "max_height": null,
            "align_content": null,
            "visibility": null,
            "align_self": null,
            "height": null,
            "min_height": null,
            "padding": null,
            "grid_auto_rows": null,
            "grid_gap": null,
            "max_width": null,
            "order": null,
            "_view_module_version": "1.2.0",
            "grid_template_areas": null,
            "object_position": null,
            "object_fit": null,
            "grid_auto_columns": null,
            "margin": null,
            "display": null,
            "left": null
          }
        },
        "252c7bbdd45b4c819a23ad891c5e48b6": {
          "model_module": "@jupyter-widgets/controls",
          "model_name": "DescriptionStyleModel",
          "state": {
            "_view_name": "StyleView",
            "_model_name": "DescriptionStyleModel",
            "description_width": "",
            "_view_module": "@jupyter-widgets/base",
            "_model_module_version": "1.5.0",
            "_view_count": null,
            "_view_module_version": "1.2.0",
            "_model_module": "@jupyter-widgets/controls"
          }
        },
        "90cd03e8618b409b9eda45c9adfa4685": {
          "model_module": "@jupyter-widgets/base",
          "model_name": "LayoutModel",
          "state": {
            "_view_name": "LayoutView",
            "grid_template_rows": null,
            "right": null,
            "justify_content": null,
            "_view_module": "@jupyter-widgets/base",
            "overflow": null,
            "_model_module_version": "1.2.0",
            "_view_count": null,
            "flex_flow": null,
            "width": null,
            "min_width": null,
            "border": null,
            "align_items": null,
            "bottom": null,
            "_model_module": "@jupyter-widgets/base",
            "top": null,
            "grid_column": null,
            "overflow_y": null,
            "overflow_x": null,
            "grid_auto_flow": null,
            "grid_area": null,
            "grid_template_columns": null,
            "flex": null,
            "_model_name": "LayoutModel",
            "justify_items": null,
            "grid_row": null,
            "max_height": null,
            "align_content": null,
            "visibility": null,
            "align_self": null,
            "height": null,
            "min_height": null,
            "padding": null,
            "grid_auto_rows": null,
            "grid_gap": null,
            "max_width": null,
            "order": null,
            "_view_module_version": "1.2.0",
            "grid_template_areas": null,
            "object_position": null,
            "object_fit": null,
            "grid_auto_columns": null,
            "margin": null,
            "display": null,
            "left": null
          }
        }
      }
    }
  },
  "cells": [
    {
      "cell_type": "markdown",
      "metadata": {
        "colab_type": "text",
        "id": "PhShOHkoCHQ4"
      },
      "source": [
        "# CE-40719: Deep Learning\n",
        "## HW3 - CNN / CNN Case Studies / CNN Applications\n",
        "(18 points)\n",
        "\n",
        "#### Name: Seyed Shayan Nazemi\n",
        "#### Student No.: 98209037"
      ]
    },
    {
      "cell_type": "markdown",
      "metadata": {
        "colab_type": "text",
        "id": "E8SJVCBZxJQB"
      },
      "source": [
        "In this exercise we are going to implement a simple residual netwrok architecture to classify images from Cifar10 dataset. Here we give you a suggestion for architecture but you are allowed to  make changes and experiment to get better results. Explain your ideas or reference the papers that you take the ideas from. You are allowed to use out-of-the-box pytorch modules in `torch.nn`."
      ]
    },
    {
      "cell_type": "markdown",
      "metadata": {
        "colab_type": "text",
        "id": "8bd7O4pSrpL1"
      },
      "source": [
        "## Architecture\n",
        "\n",
        "_All convolution layers have `3 * 3` kernel,  `padding=1`, batch normalization and relu activation_\n",
        "\n",
        "__ResidualBlock:__ _in_channel, out_channel, stride_\n",
        "\n",
        "- Conv(in_channel, out_channel, stride)\n",
        "- Conv(out_channel, out_channel, stride=1)\n",
        "\n",
        "`*` This block has a residual connection. To match dimmensions of output and residual use `1 * 1` convolution and stride. \n",
        "\n",
        "__ResidualLayer:__ _in_channel, out_channel, stride_\n",
        "\n",
        "- ResidualBlock(in_channel, out_channel, stride)\n",
        "- ResidualBlock(out_channel, out_channel, stride=1)\n",
        "\n",
        "__ResidualNetwork__:\n",
        "- Conv(3, 64, stride=1)\n",
        "- ResidualLayer(64, 64, stride=1)\n",
        "- ResidualLayer(64, 128, stride=2)\n",
        "- ResidualLayer(128, 256, stride=2)\n",
        "- ResidualLayer(256, 512, stride=2)\n",
        "- AveragePool(4, 4)\n",
        "- Linear(512, 10)\n"
      ]
    },
    {
      "cell_type": "code",
      "metadata": {
        "id": "2QPDVsQXKokZ",
        "colab_type": "code",
        "colab": {}
      },
      "source": [
        "import numpy as np\n",
        "import torch\n",
        "from torch import nn, optim\n",
        "from torch.nn import functional as F\n",
        "from torchvision import datasets, transforms, utils\n",
        "from torch.utils.data import DataLoader\n",
        "from torch.utils.data.sampler import SubsetRandomSampler"
      ],
      "execution_count": 0,
      "outputs": []
    },
    {
      "cell_type": "code",
      "metadata": {
        "id": "fWDu_fpYQsQt",
        "colab_type": "code",
        "colab": {}
      },
      "source": [
        "NUM_WORKERS = 4\n",
        "BATCH_SIZE = 32\n",
        "VAL_SIZE = 0.1\n",
        "N_EPOCHS = 1\n",
        "\n",
        "DEVICE = None\n",
        "if torch.cuda.is_available():\n",
        "    cuda_device = torch.cuda.current_device()\n",
        "    DEVICE = torch.device('cuda', cuda_device)\n",
        "else:\n",
        "    DEVICE = torch.device('cpu', 0)"
      ],
      "execution_count": 0,
      "outputs": []
    },
    {
      "cell_type": "code",
      "metadata": {
        "id": "Vfiew1EVRCFv",
        "colab_type": "code",
        "outputId": "1a5afb45-342a-4136-fba7-44cce02756d8",
        "colab": {
          "base_uri": "https://localhost:8080/",
          "height": 100,
          "referenced_widgets": [
            "6840745f559e4fb387e4c8f314cfc1ba",
            "907c48277239463482d4d4b8af7584c0",
            "d2f5e73309ef4a288018d6cc092a0243",
            "851b7c23be2b4d97a4e6e39e4283b9f6",
            "18791d20df894867bee1c63ef0e66556",
            "769d6baa6b614c44893975dd64a9c9c6",
            "252c7bbdd45b4c819a23ad891c5e48b6",
            "90cd03e8618b409b9eda45c9adfa4685"
          ]
        }
      },
      "source": [
        "transform = transforms.Compose([transforms.ToTensor(), transforms.Normalize((0.5, 0.5, 0.5), (0.5, 0.5, 0.5))])\n",
        "\n",
        "train_data = datasets.CIFAR10(root = 'data', train = True, download = True, transform = transform)\n",
        "\n",
        "test_data = datasets.CIFAR10(root = 'data', train = False, download = True, transform = transform)\n",
        "\n",
        "\n",
        "\n",
        "num_train = len(train_data)\n",
        "indices = list(range(num_train))\n",
        "np.random.shuffle(indices)\n",
        "split = int(np.floor(num_train * VAL_SIZE))\n",
        "train_index, val_index = indices[split:], indices[:split]\n",
        "train_sampler = SubsetRandomSampler(train_index)\n",
        "val_sampler = SubsetRandomSampler(val_index)\n",
        "\n",
        "\n",
        "\n",
        "train_loader = torch.utils.data.DataLoader(train_data, sampler=train_sampler, batch_size=BATCH_SIZE, num_workers=NUM_WORKERS)\n",
        "\n",
        "val_loader = torch.utils.data.DataLoader(train_data, sampler=val_sampler, batch_size=BATCH_SIZE, num_workers=NUM_WORKERS)\n",
        "\n",
        "test_loader = torch.utils.data.DataLoader(test_data, batch_size=BATCH_SIZE, num_workers=NUM_WORKERS)"
      ],
      "execution_count": 3,
      "outputs": [
        {
          "output_type": "stream",
          "text": [
            "Downloading https://www.cs.toronto.edu/~kriz/cifar-10-python.tar.gz to data/cifar-10-python.tar.gz\n"
          ],
          "name": "stdout"
        },
        {
          "output_type": "display_data",
          "data": {
            "application/vnd.jupyter.widget-view+json": {
              "model_id": "6840745f559e4fb387e4c8f314cfc1ba",
              "version_minor": 0,
              "version_major": 2
            },
            "text/plain": [
              "HBox(children=(IntProgress(value=1, bar_style='info', max=1), HTML(value='')))"
            ]
          },
          "metadata": {
            "tags": []
          }
        },
        {
          "output_type": "stream",
          "text": [
            "Extracting data/cifar-10-python.tar.gz to data\n",
            "Files already downloaded and verified\n"
          ],
          "name": "stdout"
        }
      ]
    },
    {
      "cell_type": "code",
      "metadata": {
        "id": "x8r-Vt2MLZHV",
        "colab_type": "code",
        "colab": {}
      },
      "source": [
        "class ConvolutionLayer(nn.Module):\n",
        "    def __init__(self, in_channel, out_channel, stride, kernel_size=(3, 3) , padding=1):\n",
        "        super(ConvolutionLayer, self).__init__()\n",
        "        self.conv = nn.Conv2d(in_channel, out_channel, kernel_size=kernel_size, stride=stride, padding=padding)\n",
        "        self.batch = nn.BatchNorm2d(num_features=out_channel)\n",
        "        self.relu = nn.ReLU()\n",
        "\n",
        "    def forward(self, x):\n",
        "        out = self.conv(x)\n",
        "        out = self.batch(out)\n",
        "        out = self.relu(out)\n",
        "        return out"
      ],
      "execution_count": 0,
      "outputs": []
    },
    {
      "cell_type": "code",
      "metadata": {
        "id": "m_0PbAClJexp",
        "colab_type": "code",
        "colab": {}
      },
      "source": [
        "class ResidualBlock(nn.Module):\n",
        "    def __init__(self, in_channel, out_channel, stride):\n",
        "        super(ResidualBlock, self).__init__()\n",
        "        self.conv1 = ConvolutionLayer(in_channel, out_channel, stride=stride)\n",
        "        self.conv2 = ConvolutionLayer(out_channel, out_channel, stride=1)\n",
        "\n",
        "        self.residual_conv = ConvolutionLayer(in_channel, out_channel, stride=stride, kernel_size=(1, 1), padding=0)\n",
        "\n",
        "    def forward(self, x):\n",
        "        out = self.conv1(x)\n",
        "        out = self.conv2(out)\n",
        "        \n",
        "        x_res = self.residual_conv(x)\n",
        "\n",
        "        out += x_res\n",
        "        return out"
      ],
      "execution_count": 0,
      "outputs": []
    },
    {
      "cell_type": "code",
      "metadata": {
        "id": "uU6yWdYhKLyq",
        "colab_type": "code",
        "colab": {}
      },
      "source": [
        "class ResidualLayer(nn.Module):\n",
        "    def __init__(self, in_channel, out_channel, stride):\n",
        "        super(ResidualLayer, self).__init__()\n",
        "        self.res_block1 = ResidualBlock(in_channel, out_channel, stride=stride)\n",
        "        self.res_block2 = ResidualBlock(out_channel, out_channel, stride=1)\n",
        "\n",
        "    def forward(self, x):\n",
        "        out = self.res_block1(x)\n",
        "        out = self.res_block2(out)\n",
        "\n",
        "        return out"
      ],
      "execution_count": 0,
      "outputs": []
    },
    {
      "cell_type": "code",
      "metadata": {
        "id": "7Iqbwxx_Jwyj",
        "colab_type": "code",
        "colab": {}
      },
      "source": [
        "class Model(nn.Module):\n",
        "    def __init__(self):\n",
        "        super(Model, self).__init__()\n",
        "        self.config = {\n",
        "            'conv' : (3, 64, 1), \n",
        "            'res1' : (64, 64, 1), \n",
        "            'res2' : (64, 128, 1), \n",
        "            'res3' : (128, 256, 2), \n",
        "            'res4' : (256, 512, 2),\n",
        "            'pool' : (4, 4),\n",
        "            'linear' : (2048, 10)\n",
        "            }\n",
        "\n",
        "        self.conv = ConvolutionLayer(*self.config['conv'])\n",
        "        self.res1 = ResidualLayer(*self.config['res1'])\n",
        "        self.res2 = ResidualLayer(*self.config['res2'])\n",
        "        self.res3 = ResidualLayer(*self.config['res3'])\n",
        "        self.res4 = ResidualLayer(*self.config['res4'])\n",
        "        self.pool = nn.AvgPool2d(kernel_size=self.config['pool'])\n",
        "        self.linear = nn.Linear(*self.config['linear'])\n",
        "\n",
        "    def forward(self, x):\n",
        "        out = self.conv(x)\n",
        "        out = self.res1(out)\n",
        "        out = self.res2(out)\n",
        "        out = self.res3(out)\n",
        "        out = self.res4(out)\n",
        "        out = self.pool(out)\n",
        "\n",
        "        out = out.view(-1, 2048)\n",
        "        out = self.linear(out)\n",
        "\n",
        "        return out"
      ],
      "execution_count": 0,
      "outputs": []
    },
    {
      "cell_type": "code",
      "metadata": {
        "id": "GELabvQSP5cd",
        "colab_type": "code",
        "colab": {}
      },
      "source": [
        "def train(model, optimizer, train_loader, val_loader, criterion, device, n_epochs):\n",
        "    val_loss_min = np.Inf\n",
        "    for epoch in range(n_epochs):\n",
        "        train_loss = 0\n",
        "        model.train() # set the model state to train state - specially for dropout and batchnorm\n",
        "\n",
        "        for iteration, (data, label) in enumerate(train_loader):\n",
        "            optimizer.zero_grad()\n",
        "            output = model(data.to(device))\n",
        "            loss = criterion(output, label.to(device))\n",
        "            loss.backward()\n",
        "            optimizer.step()\n",
        "            train_loss += loss.item() * data.shape[0]\n",
        "\n",
        "            if iteration % 100 == 0:\n",
        "                is_training = model.training\n",
        "                val_loss = 0\n",
        "                model.eval()\n",
        "\n",
        "                for data_val, label_val in val_loader:\n",
        "                    output_val = model(data_val.to(device))\n",
        "                    loss = criterion(output_val, label_val.to(device))\n",
        "                    val_loss += loss.item() * data_val.shape[0]\n",
        "\n",
        "                val_loss /= len(val_loader.sampler) # averaging loss on all validation set\n",
        "\n",
        "                if val_loss <= val_loss_min :\n",
        "                    print('Iteration : {:4d} \\t Validation loss decreased ({:.6f} --> {:.6f}). Saving model ...'.format(iteration, val_loss_min, val_loss))\n",
        "                    torch.save(model.state_dict(), 'model.pt')\n",
        "                    val_loss_min = val_loss\n",
        "\n",
        "            model.train(mode = is_training)\n",
        "        \n",
        "        train_loss /= len(train_loader.sampler)\n",
        "        print('Epoch : {} \\t Training loss {:.6f}'.format(epoch + 1, train_loss))"
      ],
      "execution_count": 0,
      "outputs": []
    },
    {
      "cell_type": "code",
      "metadata": {
        "id": "NcUtVwWNeUZP",
        "colab_type": "code",
        "colab": {}
      },
      "source": [
        "def test(model, test_loader, device):\n",
        "    test_loss = 0.0\n",
        "    num_correct = 0\n",
        "    model.eval()\n",
        "    \n",
        "    for data, target in test_loader:\n",
        "        output = model(data.to(device))\n",
        "        pred = torch.argmax(output, dim = 1)\n",
        "        num_correct += torch.sum(pred == target.to(device)).item()\n",
        "\n",
        "    test_acc = num_correct / len(test_loader.sampler)\n",
        "    print('Test Accuracy: {:.2f}%\\n'.format(test_acc * 100))"
      ],
      "execution_count": 0,
      "outputs": []
    },
    {
      "cell_type": "code",
      "metadata": {
        "id": "OwF4vyEUTLw5",
        "colab_type": "code",
        "outputId": "4bd15b83-6ae8-4f82-e91e-f8955971e041",
        "colab": {
          "base_uri": "https://localhost:8080/",
          "height": 187
        }
      },
      "source": [
        "model = Model()\n",
        "model.to(DEVICE)\n",
        "optimizer = optim.Adam(model.parameters())\n",
        "criterion = F.cross_entropy\n",
        "\n",
        "train(model, optimizer, train_loader, val_loader, criterion, DEVICE, N_EPOCHS)"
      ],
      "execution_count": 20,
      "outputs": [
        {
          "output_type": "stream",
          "text": [
            "Iteration :    0 \t Validation loss decreased (inf --> 2.304661). Saving model ...\n",
            "Iteration :  100 \t Validation loss decreased (2.304661 --> 2.130180). Saving model ...\n",
            "Iteration :  200 \t Validation loss decreased (2.130180 --> 1.968000). Saving model ...\n",
            "Iteration :  300 \t Validation loss decreased (1.968000 --> 1.943502). Saving model ...\n",
            "Iteration :  500 \t Validation loss decreased (1.943502 --> 1.770073). Saving model ...\n",
            "Iteration :  600 \t Validation loss decreased (1.770073 --> 1.453274). Saving model ...\n",
            "Iteration :  800 \t Validation loss decreased (1.453274 --> 1.333963). Saving model ...\n",
            "Iteration :  900 \t Validation loss decreased (1.333963 --> 1.230073). Saving model ...\n",
            "Iteration : 1300 \t Validation loss decreased (1.230073 --> 1.057072). Saving model ...\n",
            "Epoch : 1 \t Training loss 1.511304\n"
          ],
          "name": "stdout"
        }
      ]
    },
    {
      "cell_type": "code",
      "metadata": {
        "id": "vOPpNBbCT1sT",
        "colab_type": "code",
        "colab": {
          "base_uri": "https://localhost:8080/",
          "height": 51
        },
        "outputId": "078032b6-26fd-4904-c78a-9a0956e7348a"
      },
      "source": [
        "model = Model()\n",
        "model.to(DEVICE)\n",
        "model.load_state_dict(torch.load('model.pt'))\n",
        "test(model, test_loader, DEVICE)"
      ],
      "execution_count": 26,
      "outputs": [
        {
          "output_type": "stream",
          "text": [
            "Test Accuracy: 60.50%\n",
            "\n"
          ],
          "name": "stdout"
        }
      ]
    },
    {
      "cell_type": "code",
      "metadata": {
        "id": "qAH3NzBrfBun",
        "colab_type": "code",
        "colab": {
          "base_uri": "https://localhost:8080/",
          "height": 34
        },
        "outputId": "078ddd8e-ce24-4610-ac90-828d162cd1bd"
      },
      "source": [
        ""
      ],
      "execution_count": 24,
      "outputs": [
        {
          "output_type": "execute_result",
          "data": {
            "text/plain": [
              "device(type='cuda', index=0)"
            ]
          },
          "metadata": {
            "tags": []
          },
          "execution_count": 24
        }
      ]
    },
    {
      "cell_type": "code",
      "metadata": {
        "id": "ubrsznN3fHKy",
        "colab_type": "code",
        "colab": {}
      },
      "source": [
        ""
      ],
      "execution_count": 0,
      "outputs": []
    }
  ]
}