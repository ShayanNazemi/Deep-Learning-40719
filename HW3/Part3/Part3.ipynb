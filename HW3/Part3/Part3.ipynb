{
  "nbformat": 4,
  "nbformat_minor": 0,
  "metadata": {
    "accelerator": "GPU",
    "colab": {
      "name": "Part3.ipynb",
      "provenance": [],
      "collapsed_sections": []
    },
    "kernelspec": {
      "display_name": "Python 3",
      "language": "python",
      "name": "python3"
    },
    "language_info": {
      "codemirror_mode": {
        "name": "ipython",
        "version": 3
      },
      "file_extension": ".py",
      "mimetype": "text/x-python",
      "name": "python",
      "nbconvert_exporter": "python",
      "pygments_lexer": "ipython3",
      "version": "3.8.1"
    }
  },
  "cells": [
    {
      "cell_type": "markdown",
      "metadata": {
        "colab_type": "text",
        "id": "PhShOHkoCHQ4"
      },
      "source": [
        "# CE-40719: Deep Learning\n",
        "## HW3 - CNN / CNN Case Studies / CNN Applications\n",
        "(18 points)\n",
        "\n",
        "#### Name:\n",
        "#### Student No.:"
      ]
    },
    {
      "cell_type": "markdown",
      "metadata": {
        "colab_type": "text",
        "id": "E8SJVCBZxJQB"
      },
      "source": [
        "In this exercise we are going to implement a simple residual netwrok architecture to classify images from Cifar10 dataset. Here we give you a suggestion for architecture but you are allowed to  make changes and experiment to get better results. Explain your ideas or reference the papers that you take the ideas from. You are allowed to use out-of-the-box pytorch modules in `torch.nn`."
      ]
    },
    {
      "cell_type": "markdown",
      "metadata": {
        "colab_type": "text",
        "id": "8bd7O4pSrpL1"
      },
      "source": [
        "## Architecture\n",
        "\n",
        "_All convolution layers have `3 * 3` kernel,  `padding=1`, batch normalization and relu activation_\n",
        "\n",
        "__ResidualBlock:__ _in_channel, out_channel, stride_\n",
        "\n",
        "- Conv(in_channel, out_channel, stride)\n",
        "- Conv(out_channel, out_channel, stride=1)\n",
        "\n",
        "`*` This block has a residual connection. To match dimmensions of output and residual use `1 * 1` convolution and stride. \n",
        "\n",
        "__ResidualLayer:__ _in_channel, out_channel, stride_\n",
        "\n",
        "- ResidualBlock(in_channel, out_channel, stride)\n",
        "- ResidualBlock(out_channel, out_channel, stride=1)\n",
        "\n",
        "__ResidualNetwork__:\n",
        "- Conv(3, 64, stride=1)\n",
        "- ResidualLayer(64, 64, stride=1)\n",
        "- ResidualLayer(64, 128, stride=2)\n",
        "- ResidualLayer(128, 256, stride=2)\n",
        "- ResidualLayer(256, 512, stride=2)\n",
        "- AveragePool(4, 4)\n",
        "- Linear(512, 10)\n"
      ]
    },
    {
      "cell_type": "code",
      "metadata": {
        "id": "2QPDVsQXKokZ",
        "colab_type": "code",
        "colab": {}
      },
      "source": [
        "pass"
      ],
      "execution_count": 0,
      "outputs": []
    }
  ]
}