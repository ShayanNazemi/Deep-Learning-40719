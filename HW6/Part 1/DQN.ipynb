{
  "nbformat": 4,
  "nbformat_minor": 0,
  "metadata": {
    "accelerator": "GPU",
    "colab": {
      "name": "DQN.ipynb",
      "provenance": [],
      "collapsed_sections": [],
      "toc_visible": true
    },
    "file_extension": ".py",
    "kernelspec": {
      "display_name": "Backyard",
      "language": "python",
      "name": "backyard"
    },
    "language_info": {
      "codemirror_mode": {
        "name": "ipython",
        "version": 3
      },
      "file_extension": ".py",
      "mimetype": "text/x-python",
      "name": "python",
      "nbconvert_exporter": "python",
      "pygments_lexer": "ipython3",
      "version": "3.6.10"
    },
    "mimetype": "text/x-python",
    "name": "python",
    "npconvert_exporter": "python",
    "pygments_lexer": "ipython3",
    "version": 3
  },
  "cells": [
    {
      "cell_type": "markdown",
      "metadata": {
        "colab_type": "text",
        "id": "wdJyvRHKPTwD"
      },
      "source": [
        "# CE-40719: Deep Learning\n",
        "## HW6 - Deep Reinforcement Learning\n",
        "\n",
        "(30 points)\n",
        "\n",
        "#### Name:\n",
        "#### Student No.:\n"
      ]
    },
    {
      "cell_type": "markdown",
      "metadata": {
        "colab_type": "text",
        "id": "IEcu-hn3VTbf"
      },
      "source": [
        "In this assignment we are going to design an agent to play atari game. We use a Deep Q-Network model as agent to play game Pong(`PongNoFrameskip-v4` environment of [gym](https://gym.openai.com/) library).\n",
        "In this environment, the observation is an RGB image of the screen, which is an array of shape (210, 160, 3). And action space is 6.\n",
        "We will train the model for 200,000 steps and should take approximately 2 hour. \n",
        "**If you train the model for 800,000 steps and achieve a score more than 10 in average in your last 10 games, you get a bonus point.**\n",
        "\n",
        "![Pong](https://cdn-images-1.medium.com/max/800/1*UHYJE7lF8IDZS_U5SsAFUQ.gif)\n"
      ]
    },
    {
      "cell_type": "markdown",
      "metadata": {
        "colab_type": "text",
        "id": "vNEtOuqFPTwG"
      },
      "source": [
        " ## 1. Setup"
      ]
    },
    {
      "cell_type": "markdown",
      "metadata": {
        "colab_type": "text",
        "id": "lvnm2Xz8Vex6"
      },
      "source": [
        "First, we need to install `stable-baselines`. This library  is a set of improved implementations of Reinforcement Learning (RL) algorithms based on OpenAI Baselines. We will use some of **wrappers** of this library. Wrappers will allow us to add functionality to environments, such as modifying observations and rewards to be fed to our agent. It is common in reinforcement learning to preprocess observations in order to make them more easy to learn from. \n",
        "\n",
        "- For linux based Operating Systems or google colab run cell below:"
      ]
    },
    {
      "cell_type": "code",
      "metadata": {
        "colab_type": "code",
        "id": "ZLeyFkWEQ-lf",
        "colab": {}
      },
      "source": [
        "%%shell\n",
        "\n",
        "sudo apt-get update && sudo apt-get install cmake libopenmpi-dev zlib1g-dev\n",
        "\n",
        "pip install stable-baselines[mpi]==2.8.0"
      ],
      "execution_count": 0,
      "outputs": []
    },
    {
      "cell_type": "markdown",
      "metadata": {
        "colab_type": "text",
        "id": "rCk0wAHtIvKX"
      },
      "source": [
        "- For Windows: \n",
        "    - First install [MPI for Windows](https://www.microsoft.com/en-us/download/details.aspx?id=57467) (you need to download and install `msmpisetup.exe`)\n",
        "    - Then run this command in Prompt: `pip install stable-baselines[mpi]==2.8.0`"
      ]
    },
    {
      "cell_type": "markdown",
      "metadata": {
        "colab_type": "text",
        "id": "Sx1Q4VpmM9qj"
      },
      "source": [
        "### 1.1. Import Libraries:"
      ]
    },
    {
      "cell_type": "code",
      "metadata": {
        "colab_type": "code",
        "id": "z38drypWPTwH",
        "colab": {}
      },
      "source": [
        "import random, pickle, os.path, math, glob, csv\n",
        "import numpy as np\n",
        "\n",
        "from timeit import default_timer as timer\n",
        "from datetime import timedelta\n",
        "\n",
        "import matplotlib\n",
        "%matplotlib inline\n",
        "from IPython.display import clear_output\n",
        "from plot import plot_all_data \n",
        "\n",
        "import torch\n",
        "import torch.optim as optim\n",
        "import torch.nn as nn\n",
        "import torch.nn.functional as F\n",
        "\n",
        "# ######################## #\n",
        "# USE ONLY IN GOOGLE COLAB #\n",
        "%tensorflow_version 1.x \n",
        "# ######################## #\n",
        "\n",
        "import gym\n",
        "from gym.spaces.box import Box\n",
        "from stable_baselines import bench\n",
        "from stable_baselines.common.atari_wrappers import make_atari, wrap_deepmind\n",
        "\n",
        "\n"
      ],
      "execution_count": 0,
      "outputs": []
    },
    {
      "cell_type": "markdown",
      "metadata": {
        "colab_type": "text",
        "id": "B08Nd1BBPTwS"
      },
      "source": [
        " ### 1.2. Hyperparameters"
      ]
    },
    {
      "cell_type": "code",
      "metadata": {
        "colab_type": "code",
        "id": "jUh4C3D1PTwT",
        "colab": {}
      },
      "source": [
        "device = torch.device(\"cuda\" if torch.cuda.is_available() else \"cpu\")\n",
        "\n",
        "# Epsilon variables for epsilon-greedy:\n",
        "epsilon_start    = 1.0\n",
        "epsilon_final    = 0.01\n",
        "epsilon_decay    = 30000\n",
        "epsilon_by_frame = lambda frame_idx: epsilon_final + (epsilon_start - epsilon_final) * math.exp(-1. * frame_idx / epsilon_decay) \n",
        "\n",
        "# Misc agent variables\n",
        "GAMMA = 0.99 \n",
        "LR    = 1e-4 \n",
        "\n",
        "# Memory\n",
        "TARGET_NET_UPDATE_FREQ = 1000 \n",
        "EXP_REPLAY_SIZE        = 100000 \n",
        "BATCH_SIZE             = 32 \n",
        "\n",
        "# Learning control variables\n",
        "LEARN_START = 10000\n",
        "MAX_FRAMES  = 200000 # Probably takes about an hour training. You can increase it if you have time!\n",
        "UPDATE_FREQ = 1 \n",
        "\n",
        "# Data logging parameters\n",
        "ACTION_SELECTION_COUNT_FREQUENCY = 1000 \n"
      ],
      "execution_count": 0,
      "outputs": []
    },
    {
      "cell_type": "markdown",
      "metadata": {
        "colab_type": "text",
        "id": "_LhYJ6qyPTwY"
      },
      "source": [
        "## 2. Model (22 Points)\n",
        "We will implement a DQN model with experience replay. We implement a class for experience replay  `ExperienceReplayMemory`, for extarct features of observed picture of game we implement a class `DQN` that uses a CNN and inheritance from `nn.Module`. We implemented a wrapper class `WrapPyTorch` that you will use it in training loop."
      ]
    },
    {
      "cell_type": "markdown",
      "metadata": {
        "colab_type": "text",
        "id": "fHB1ZPIqNUIw"
      },
      "source": [
        "### 2.1. Replay Memory (3 Points)"
      ]
    },
    {
      "cell_type": "code",
      "metadata": {
        "colab_type": "code",
        "id": "kdfgfO10PTwZ",
        "colab": {}
      },
      "source": [
        "#################################################################################\n",
        "#                          COMPLETE THE FOLLOWING SECTION                       #\n",
        "#################################################################################\n",
        "# complete push and sample methods.\n",
        "#################################################################################\n",
        "class ExperienceReplayMemory:\n",
        "    def __init__(self, capacity):\n",
        "        self.capacity = capacity\n",
        "        self.memory = []\n",
        "\n",
        "    def push(self, transition):\n",
        "        pass\n",
        "\n",
        "    def sample(self, batch_size):\n",
        "        return None\n",
        "\n",
        "    def __len__(self):\n",
        "        return len(self.memory)\n",
        "#################################################################################\n",
        "#                                   THE END                                     #\n",
        "#################################################################################  "
      ],
      "execution_count": 0,
      "outputs": []
    },
    {
      "cell_type": "markdown",
      "metadata": {
        "colab_type": "text",
        "id": "BAsgNXi5PTwc"
      },
      "source": [
        "### 2.2. Network Declaration (4 Points)"
      ]
    },
    {
      "cell_type": "code",
      "metadata": {
        "colab_type": "code",
        "id": "foP8pyAUPTwc",
        "colab": {}
      },
      "source": [
        "class DQN(nn.Module):\n",
        "    def __init__(self, input_shape, num_actions):\n",
        "        super(DQN, self).__init__()\n",
        "        \n",
        "        self.input_shape = input_shape\n",
        "        self.num_actions = num_actions\n",
        "        #################################################################################\n",
        "        #                          COMPLETE THE FOLLOWING SECTION                       #\n",
        "        #################################################################################\n",
        "        # Initialize CNN Model :\n",
        "        # conv1: out_channels:32, kernel_size=8, stride=4\n",
        "        # conv2: out_channels:64, kernel_size=4, stride=2\n",
        "        # conv3: out_channels:64, kernel_size=3, stride=1\n",
        "        # fc1(512)\n",
        "        # fc2(512)\n",
        "        #################################################################################\n",
        "        pass\n",
        "        #################################################################################\n",
        "        #                                   THE END                                     #\n",
        "        #################################################################################\n",
        "\n",
        "    def forward(self, x):\n",
        "        #################################################################################\n",
        "        #                          COMPLETE THE FOLLOWING SECTION                       #\n",
        "        #################################################################################\n",
        "        # complete forward pass using initialized CNN Model. use Relu activation function \n",
        "        # for conv1, conv2, conv3, and fc1.  \n",
        "        #################################################################################\n",
        "        pass\n",
        "\n",
        "        return x\n",
        "        #################################################################################\n",
        "        #                                   THE END                                     #\n",
        "        #################################################################################   \n",
        "\n"
      ],
      "execution_count": 0,
      "outputs": []
    },
    {
      "cell_type": "markdown",
      "metadata": {
        "colab_type": "text",
        "id": "gbvmYNe_NkcY"
      },
      "source": [
        "### 2.3. Wrapper\n"
      ]
    },
    {
      "cell_type": "code",
      "metadata": {
        "colab_type": "code",
        "id": "BfL-2Xe-YVJX",
        "colab": {}
      },
      "source": [
        "class WrapPyTorch(gym.ObservationWrapper):\n",
        "    def __init__(self, env=None):\n",
        "        super(WrapPyTorch, self).__init__(env)\n",
        "        obs_shape = self.observation_space.shape\n",
        "        self.observation_space = Box(\n",
        "            self.observation_space.low[0, 0, 0],\n",
        "            self.observation_space.high[0, 0, 0],\n",
        "            [obs_shape[2], obs_shape[1], obs_shape[0]],\n",
        "            dtype=self.observation_space.dtype)\n",
        "\n",
        "    def observation(self, observation):\n",
        "        return observation.transpose(2, 0, 1)"
      ],
      "execution_count": 0,
      "outputs": []
    },
    {
      "cell_type": "markdown",
      "metadata": {
        "colab_type": "text",
        "id": "KmaplGeXPTwf"
      },
      "source": [
        " ### 2.4. Agent (15 Points)"
      ]
    },
    {
      "cell_type": "code",
      "metadata": {
        "colab_type": "code",
        "id": "UoBY6iez85Xk",
        "colab": {}
      },
      "source": [
        "class Model():\n",
        "    def __init__(self, env=None, log_dir='/tmp/gym'):\n",
        "        self.device = device\n",
        "\n",
        "        self.gamma = GAMMA \n",
        "        self.lr = LR\n",
        "        self.target_net_update_freq = TARGET_NET_UPDATE_FREQ\n",
        "        self.experience_replay_size = EXP_REPLAY_SIZE\n",
        "        self.batch_size = BATCH_SIZE\n",
        "        self.learn_start = LEARN_START\n",
        "        self.update_freq = UPDATE_FREQ\n",
        "        self.log_dir = log_dir\n",
        "        self.rewards = []\n",
        "        self.action_log_frequency = ACTION_SELECTION_COUNT_FREQUENCY\n",
        "        #################################################################################\n",
        "        #                          COMPLETE THE FOLLOWING SECTION                       #\n",
        "        #################################################################################\n",
        "        # do followings line by line:\n",
        "        # * make a list of action selections\n",
        "        # * use shape of observation space to save number of features\n",
        "        # * save naumber of actions\n",
        "        # * save environment in self.env\n",
        "        # * use DQN class to declare model and target model (the game is 2-player game, so\n",
        "        #   we declare 2 model)\n",
        "        # * using load_state_dict, share learnable parameters (i.e. weights and biases) of\n",
        "        #   self.model with self.target_model \n",
        "        # * use Adam optimizer\n",
        "        #################################################################################\n",
        "        self.action_selections = None\n",
        "        self.num_feats = None\n",
        "        self.num_actions = None\n",
        "        self.env = None\n",
        "\n",
        "        self.model = None\n",
        "        self.target_model = None\n",
        "            \n",
        "        self.target_model...\n",
        "\n",
        "        self.optimizer = None\n",
        "        #################################################################################\n",
        "        #                                   THE END                                     #\n",
        "        #################################################################################\n",
        "\n",
        "        # Move to correct device\n",
        "        self.model = self.model.to(self.device)\n",
        "        self.target_model.to(self.device)\n",
        "\n",
        "        self.model.train()\n",
        "        self.target_model.train()\n",
        "\n",
        "        self.update_count = 0\n",
        "\n",
        "        self.memory = ExperienceReplayMemory(self.experience_replay_size)\n",
        "        \n",
        "\n",
        "    def prep_minibatch(self):\n",
        "      \n",
        "        #################################################################################\n",
        "        #                          COMPLETE THE FOLLOWING SECTION                       #\n",
        "        #################################################################################\n",
        "        # random transition batch is taken from experience replay memory\n",
        "        # do followings line by line:\n",
        "        # * sample from self.memory with batch size, and save result in transitions, \n",
        "        #   indices, weights\n",
        "        # * use transitions to save batch_state, batch_action, batch_reward, \n",
        "        #   batch_next_state as tensors\n",
        "        # * save non_final_mask,  non_final_next_states as tensors, note that sometimes \n",
        "        #   all next states are false\n",
        "        #################################################################################\n",
        "        transitions, indices, weights = None\n",
        "        \n",
        "        batch_state, batch_action, batch_reward, batch_next_state = None\n",
        "\n",
        "  \n",
        "\n",
        "        batch_state = None\n",
        "        batch_action = None\n",
        "        batch_reward = None\n",
        "        \n",
        "        non_final_mask = None\n",
        "\n",
        "        try: \n",
        "            non_final_next_states = None\n",
        "            empty_next_state_values = False\n",
        "        except:\n",
        "            non_final_next_states = None\n",
        "            empty_next_state_values = True\n",
        "        #################################################################################\n",
        "        #                                   THE END                                     #\n",
        "        #################################################################################\n",
        "        return batch_state, batch_action, batch_reward, non_final_next_states, non_final_mask, empty_next_state_values, indices, weights\n",
        "\n",
        "    def compute_loss(self, batch_vars):\n",
        "        batch_state, batch_action, batch_reward, non_final_next_states, non_final_mask, empty_next_state_values, indices, weights = batch_vars\n",
        "\n",
        "        #################################################################################\n",
        "        #                          COMPLETE THE FOLLOWING SECTION                       #\n",
        "        #################################################################################\n",
        "        # implement calculation of loss (you can use \"with torch.no_grad():\")\n",
        "        #################################################################################\n",
        "\n",
        "        loss = None\n",
        "        #################################################################################\n",
        "        #                                   THE END                                     #\n",
        "        #################################################################################\n",
        "        return loss\n",
        "\n",
        "    def update(self, s, a, r, s_, frame=0):\n",
        "        #################################################################################\n",
        "        #                          COMPLETE THE FOLLOWING SECTION                       #\n",
        "        #################################################################################\n",
        "        # implement update method to optimize model \n",
        "        # * push state, action, reward and new state to memoty\n",
        "        # * note that if frame is lower than self.learn_start or frame % self.update_freq != 0\n",
        "        #   return None\n",
        "        # * take a random transition batch and compute loss\n",
        "        # * optimize the model\n",
        "        #################################################################################\n",
        "        pass\n",
        "        #################################################################################\n",
        "        #                                   THE END                                     #\n",
        "        #################################################################################\n",
        "\n",
        "        self.update_target_model()       \n",
        "        self.save_td(loss.item(), frame)\n",
        "        self.save_sigma_param_magnitudes(frame)\n",
        "\n",
        "    def get_action(self, s, eps=0.1):\n",
        "\n",
        "        #################################################################################\n",
        "        #                          COMPLETE THE FOLLOWING SECTION                       #\n",
        "        #################################################################################  \n",
        "         # implement get_action method (epsilon greedy)\n",
        "         # you can use \"with torch.no_grad():\"\n",
        "         ################################################################################# \n",
        "        pass\n",
        "\n",
        "        #################################################################################\n",
        "        #                                   THE END                                     #\n",
        "        #################################################################################\n",
        "\n",
        "    def update_target_model(self):\n",
        "      # update target model:\n",
        "        self.update_count+=1\n",
        "        self.update_count = self.update_count % self.target_net_update_freq\n",
        "        if self.update_count == 0:\n",
        "            self.target_model.load_state_dict(self.model.state_dict())\n",
        "\n",
        "    def get_max_next_state_action(self, next_states):\n",
        "        return self.target_model(next_states).max(dim=1)[1].view(-1, 1)\n",
        "\n",
        "\n",
        "    def save_sigma_param_magnitudes(self, tstep):\n",
        "        with torch.no_grad():\n",
        "            sum_, count = 0.0, 0.0\n",
        "            for name, param in self.model.named_parameters():\n",
        "                if param.requires_grad and 'sigma' in name:\n",
        "                    sum_+= torch.sum(param.abs()).item()\n",
        "                    count += np.prod(param.shape)\n",
        "            \n",
        "            if count > 0:\n",
        "                with open(os.path.join(self.log_dir, 'sig_param_mag.csv'), 'a') as f:\n",
        "                    writer = csv.writer(f)\n",
        "                    writer.writerow((tstep, sum_/count))\n",
        "\n",
        "    def save_td(self, td, tstep):\n",
        "      # save temporal difference\n",
        "        with open(os.path.join(self.log_dir, 'td.csv'), 'a') as f:\n",
        "            writer = csv.writer(f)\n",
        "            writer.writerow((tstep, td))\n",
        "\n",
        "    def save_reward(self, reward):\n",
        "        self.rewards.append(reward)\n",
        "\n",
        "    def save_action(self, action, tstep):\n",
        "        self.action_selections[int(action)] += 1.0/self.action_log_frequency\n",
        "        if (tstep+1) % self.action_log_frequency == 0:\n",
        "            with open(os.path.join(self.log_dir, 'action_log.csv'), 'a') as f:\n",
        "                writer = csv.writer(f)\n",
        "                writer.writerow(list([tstep]+self.action_selections))\n",
        "            self.action_selections = [0 for _ in range(len(self.action_selections))]\n",
        "\n"
      ],
      "execution_count": 0,
      "outputs": []
    },
    {
      "cell_type": "markdown",
      "metadata": {
        "colab_type": "text",
        "id": "COg8LTslPTwi"
      },
      "source": [
        " ## 3. Training Loop (8 Points)"
      ]
    },
    {
      "cell_type": "code",
      "metadata": {
        "colab_type": "code",
        "id": "yOmkex6lPTwj",
        "colab": {},
        "outputId": "4e5f6b34-0f9e-4f1a-f9df-0bbf8d090569"
      },
      "source": [
        "start=timer()\n",
        "\n",
        "log_dir = \"/tmp/gym/\"\n",
        "try:\n",
        "    os.makedirs(log_dir)\n",
        "except OSError:\n",
        "    files = glob.glob(os.path.join(log_dir, '*.monitor.csv')) \\\n",
        "        + glob.glob(os.path.join(log_dir, '*td.csv')) \\\n",
        "        + glob.glob(os.path.join(log_dir, '*sig_param_mag.csv')) \\\n",
        "        + glob.glob(os.path.join(log_dir, '*action_log.csv'))\n",
        "    for f in files:\n",
        "        os.remove(f)\n",
        "\n",
        "#################################################################################\n",
        "#                          COMPLETE THE FOLLOWING SECTION                       #\n",
        "#################################################################################\n",
        "# do followings line by line:\n",
        "# * use \"make_atari\" wrapper and save \"PongNoFrameskip-v4\" game to env\n",
        "# * use \"bench.Monitor\" wrapper to know the episode reward, length, time and other data.\n",
        "# * use \"wrap_deepmind\" wrapper to configure environment for DeepMind-style Atari.\n",
        "# * use *WrapPyTorch*\n",
        "# * save model\n",
        "# * implement training loop\n",
        "#################################################################################\n",
        "env_id = \"PongNoFrameskip-v4\"\n",
        "env =  None\n",
        "\n",
        "model  = None\n",
        "\n",
        "episode_reward = 0\n",
        "observation = env.reset()\n",
        "for frame_idx in range(1, MAX_FRAMES + 1):\n",
        "    epsilon = None\n",
        "\n",
        "    action = None\n",
        "\n",
        "    model.save_action(action, frame_idx) #log action selection\n",
        "\n",
        "    prev_observation = None\n",
        "    observation, reward, done, _ = None\n",
        "\n",
        "    ....\n",
        "\n",
        "    if done:\n",
        "        pass\n",
        "        \n",
        "#################################################################################\n",
        "#                                   THE END                                     #\n",
        "################################################################################# \n",
        "    if frame_idx % 1000 == 0:\n",
        "        try:\n",
        "            clear_output(True)\n",
        "            plot_all_data(log_dir, env_id, 'DQN', MAX_FRAMES, bin_size=(10, 100, 100, 1), smooth=1, time=timedelta(seconds=int(timer()-start)), ipynb=True)\n",
        "        except IOError:\n",
        "            pass\n",
        " \n",
        "env.close()\n",
        "plot_all_data(log_dir, env_id, 'DQN', MAX_FRAMES, bin_size=(10, 100, 100, 1), smooth=1, time=timedelta(seconds=int(timer()-start)), ipynb=True)"
      ],
      "execution_count": 0,
      "outputs": [
        {
          "output_type": "error",
          "ename": "SyntaxError",
          "evalue": "invalid syntax (<ipython-input-1-ec83071cec00>, line 42)",
          "traceback": [
            "\u001b[1;36m  File \u001b[1;32m\"<ipython-input-1-ec83071cec00>\"\u001b[1;36m, line \u001b[1;32m42\u001b[0m\n\u001b[1;33m    ....\u001b[0m\n\u001b[1;37m        ^\u001b[0m\n\u001b[1;31mSyntaxError\u001b[0m\u001b[1;31m:\u001b[0m invalid syntax\n"
          ]
        }
      ]
    },
    {
      "cell_type": "markdown",
      "metadata": {
        "colab_type": "text",
        "id": "bqc_dDMIVxks"
      },
      "source": [
        "![Result](result.JPG)"
      ]
    }
  ]
}