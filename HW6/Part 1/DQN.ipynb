{
  "nbformat": 4,
  "nbformat_minor": 0,
  "metadata": {
    "accelerator": "GPU",
    "colab": {
      "name": "DQN.ipynb",
      "provenance": [],
      "collapsed_sections": []
    },
    "file_extension": ".py",
    "kernelspec": {
      "display_name": "Backyard",
      "language": "python",
      "name": "backyard"
    },
    "language_info": {
      "codemirror_mode": {
        "name": "ipython",
        "version": 3
      },
      "file_extension": ".py",
      "mimetype": "text/x-python",
      "name": "python",
      "nbconvert_exporter": "python",
      "pygments_lexer": "ipython3",
      "version": "3.6.10"
    },
    "mimetype": "text/x-python",
    "name": "python",
    "npconvert_exporter": "python",
    "pygments_lexer": "ipython3",
    "version": 3
  },
  "cells": [
    {
      "cell_type": "markdown",
      "metadata": {
        "colab_type": "text",
        "id": "wdJyvRHKPTwD"
      },
      "source": [
        "# CE-40719: Deep Learning\n",
        "## HW6 - Deep Reinforcement Learning\n",
        "\n",
        "(30 points)\n",
        "\n",
        "#### Name: Seyed Shayan Nazemi\n",
        "#### Student No.: 98209037\n"
      ]
    },
    {
      "cell_type": "markdown",
      "metadata": {
        "colab_type": "text",
        "id": "IEcu-hn3VTbf"
      },
      "source": [
        "In this assignment we are going to design an agent to play atari game. We use a Deep Q-Network model as agent to play game Pong(`PongNoFrameskip-v4` environment of [gym](https://gym.openai.com/) library).\n",
        "In this environment, the observation is an RGB image of the screen, which is an array of shape (210, 160, 3). And action space is 6.\n",
        "We will train the model for 200,000 steps and should take approximately 2 hour. \n",
        "**If you train the model for 800,000 steps and achieve a score more than 10 in average in your last 10 games, you get a bonus point.**\n",
        "\n",
        "![Pong](https://cdn-images-1.medium.com/max/800/1*UHYJE7lF8IDZS_U5SsAFUQ.gif)\n"
      ]
    },
    {
      "cell_type": "markdown",
      "metadata": {
        "colab_type": "text",
        "id": "vNEtOuqFPTwG"
      },
      "source": [
        " ## 1. Setup"
      ]
    },
    {
      "cell_type": "markdown",
      "metadata": {
        "colab_type": "text",
        "id": "lvnm2Xz8Vex6"
      },
      "source": [
        "First, we need to install `stable-baselines`. This library  is a set of improved implementations of Reinforcement Learning (RL) algorithms based on OpenAI Baselines. We will use some of **wrappers** of this library. Wrappers will allow us to add functionality to environments, such as modifying observations and rewards to be fed to our agent. It is common in reinforcement learning to preprocess observations in order to make them more easy to learn from. \n",
        "\n",
        "- For linux based Operating Systems or google colab run cell below:"
      ]
    },
    {
      "cell_type": "code",
      "metadata": {
        "colab_type": "code",
        "id": "ZLeyFkWEQ-lf",
        "colab": {
          "base_uri": "https://localhost:8080/",
          "height": 904
        },
        "outputId": "bd780729-b001-4db9-c15d-49f6468aa843"
      },
      "source": [
        "%%shell\n",
        "\n",
        "sudo apt-get update && sudo apt-get install cmake libopenmpi-dev zlib1g-dev\n",
        "\n",
        "pip install stable-baselines[mpi]==2.8.0"
      ],
      "execution_count": 53,
      "outputs": [
        {
          "output_type": "stream",
          "text": [
            "\r0% [Working]\r            \rGet:1 http://security.ubuntu.com/ubuntu bionic-security InRelease [88.7 kB]\n",
            "\r0% [Connecting to archive.ubuntu.com (91.189.88.142)] [1 InRelease 8,378 B/88.7\r                                                                               \rHit:2 http://ppa.launchpad.net/graphics-drivers/ppa/ubuntu bionic InRelease\n",
            "\r0% [Connecting to archive.ubuntu.com (91.189.88.152)] [1 InRelease 14.2 kB/88.7\r0% [2 InRelease gpgv 21.3 kB] [Waiting for headers] [1 InRelease 14.2 kB/88.7 k\r0% [Waiting for headers] [1 InRelease 43.1 kB/88.7 kB 49%] [Connecting to cloud\r                                                                               \rIgn:3 https://developer.download.nvidia.com/compute/cuda/repos/ubuntu1804/x86_64  InRelease\n",
            "\r0% [Waiting for headers] [1 InRelease 43.1 kB/88.7 kB 49%] [Connecting to cloud\r                                                                               \rHit:4 http://archive.ubuntu.com/ubuntu bionic InRelease\n",
            "\r0% [1 InRelease 54.7 kB/88.7 kB 62%] [Connecting to cloud.r-project.org] [Waiti\r0% [4 InRelease gpgv 242 kB] [Waiting for headers] [1 InRelease 54.7 kB/88.7 kB\r0% [Waiting for headers] [1 InRelease 86.6 kB/88.7 kB 98%] [Waiting for headers\r0% [Waiting for headers] [Waiting for headers] [Waiting for headers] [Waiting f\r0% [1 InRelease gpgv 88.7 kB] [Waiting for headers] [Waiting for headers] [Wait\r0% [Waiting for headers] [Waiting for headers] [Waiting for headers] [Waiting f\r                                                                               \rGet:5 http://archive.ubuntu.com/ubuntu bionic-updates InRelease [88.7 kB]\n",
            "\r0% [5 InRelease 14.2 kB/88.7 kB 16%] [Waiting for headers] [Waiting for headers\r                                                                               \rGet:6 http://ppa.launchpad.net/marutter/c2d4u3.5/ubuntu bionic InRelease [15.4 kB]\n",
            "\r0% [5 InRelease 14.2 kB/88.7 kB 16%] [Waiting for headers] [Waiting for headers\r0% [5 InRelease 15.6 kB/88.7 kB 18%] [Waiting for headers] [Waiting for headers\r0% [6 InRelease gpgv 15.4 kB] [5 InRelease 15.6 kB/88.7 kB 18%] [Waiting for he\r0% [5 InRelease 15.6 kB/88.7 kB 18%] [Waiting for headers] [Waiting for headers\r                                                                               \rGet:7 https://cloud.r-project.org/bin/linux/ubuntu bionic-cran35/ InRelease [3,626 B]\n",
            "\r0% [5 InRelease 35.9 kB/88.7 kB 40%] [7 InRelease 3,626 B/3,626 B 100%] [Waitin\r0% [5 InRelease 35.9 kB/88.7 kB 40%] [Waiting for headers] [Connecting to ppa.l\r0% [7 InRelease gpgv 3,626 B] [5 InRelease 35.9 kB/88.7 kB 40%] [Waiting for he\r0% [5 InRelease 47.5 kB/88.7 kB 54%] [Waiting for headers] [Connecting to ppa.l\r                                                                               \rIgn:8 https://developer.download.nvidia.com/compute/machine-learning/repos/ubuntu1804/x86_64  InRelease\n",
            "\r                                                                               \r0% [5 InRelease 47.5 kB/88.7 kB 54%] [Waiting for headers]\r                                                          \rHit:9 https://developer.download.nvidia.com/compute/cuda/repos/ubuntu1804/x86_64  Release\n",
            "Hit:10 https://developer.download.nvidia.com/compute/machine-learning/repos/ubuntu1804/x86_64  Release\n",
            "Get:13 http://ppa.launchpad.net/marutter/c2d4u3.5/ubuntu bionic/main Sources [1,837 kB]\n",
            "Get:14 http://archive.ubuntu.com/ubuntu bionic-backports InRelease [74.6 kB]\n",
            "Get:15 http://ppa.launchpad.net/marutter/c2d4u3.5/ubuntu bionic/main amd64 Packages [886 kB]\n",
            "Fetched 2,994 kB in 6s (469 kB/s)\n",
            "Reading package lists... Done\n",
            "Reading package lists... Done\n",
            "Building dependency tree       \n",
            "Reading state information... Done\n",
            "zlib1g-dev is already the newest version (1:1.2.11.dfsg-0ubuntu2).\n",
            "libopenmpi-dev is already the newest version (2.1.1-8).\n",
            "cmake is already the newest version (3.10.2-1ubuntu2.18.04.1).\n",
            "The following package was automatically installed and is no longer required:\n",
            "  libnvidia-common-440\n",
            "Use 'sudo apt autoremove' to remove it.\n",
            "0 upgraded, 0 newly installed, 0 to remove and 44 not upgraded.\n",
            "Collecting stable-baselines[mpi]==2.8.0\n",
            "  Using cached https://files.pythonhosted.org/packages/da/75/6f92ac720de62be8c16ec652d22c9296a90d857cd636d043de16de8128ab/stable_baselines-2.8.0-py3-none-any.whl\n",
            "Requirement already satisfied: gym[atari,classic_control]>=0.10.9 in /usr/local/lib/python3.6/dist-packages (from stable-baselines[mpi]==2.8.0) (0.17.2)\n",
            "Requirement already satisfied: opencv-python in /usr/local/lib/python3.6/dist-packages (from stable-baselines[mpi]==2.8.0) (4.1.2.30)\n",
            "Requirement already satisfied: scipy in /usr/local/lib/python3.6/dist-packages (from stable-baselines[mpi]==2.8.0) (1.4.1)\n",
            "Requirement already satisfied: cloudpickle>=0.5.5 in /usr/local/lib/python3.6/dist-packages (from stable-baselines[mpi]==2.8.0) (1.3.0)\n",
            "Requirement already satisfied: numpy in /usr/local/lib/python3.6/dist-packages (from stable-baselines[mpi]==2.8.0) (1.18.5)\n",
            "Requirement already satisfied: pandas in /usr/local/lib/python3.6/dist-packages (from stable-baselines[mpi]==2.8.0) (1.0.4)\n",
            "Requirement already satisfied: joblib in /usr/local/lib/python3.6/dist-packages (from stable-baselines[mpi]==2.8.0) (0.15.1)\n",
            "Requirement already satisfied: matplotlib in /usr/local/lib/python3.6/dist-packages (from stable-baselines[mpi]==2.8.0) (3.2.1)\n",
            "Requirement already satisfied: mpi4py; extra == \"mpi\" in /tensorflow-1.15.2/python3.6 (from stable-baselines[mpi]==2.8.0) (3.0.3)\n",
            "Requirement already satisfied: pyglet<=1.5.0,>=1.4.0 in /usr/local/lib/python3.6/dist-packages (from gym[atari,classic_control]>=0.10.9->stable-baselines[mpi]==2.8.0) (1.5.0)\n",
            "Requirement already satisfied: atari-py~=0.2.0; extra == \"atari\" in /usr/local/lib/python3.6/dist-packages (from gym[atari,classic_control]>=0.10.9->stable-baselines[mpi]==2.8.0) (0.2.6)\n",
            "Requirement already satisfied: Pillow; extra == \"atari\" in /usr/local/lib/python3.6/dist-packages (from gym[atari,classic_control]>=0.10.9->stable-baselines[mpi]==2.8.0) (7.0.0)\n",
            "Requirement already satisfied: pytz>=2017.2 in /usr/local/lib/python3.6/dist-packages (from pandas->stable-baselines[mpi]==2.8.0) (2018.9)\n",
            "Requirement already satisfied: python-dateutil>=2.6.1 in /usr/local/lib/python3.6/dist-packages (from pandas->stable-baselines[mpi]==2.8.0) (2.8.1)\n",
            "Requirement already satisfied: cycler>=0.10 in /usr/local/lib/python3.6/dist-packages (from matplotlib->stable-baselines[mpi]==2.8.0) (0.10.0)\n",
            "Requirement already satisfied: kiwisolver>=1.0.1 in /usr/local/lib/python3.6/dist-packages (from matplotlib->stable-baselines[mpi]==2.8.0) (1.2.0)\n",
            "Requirement already satisfied: pyparsing!=2.0.4,!=2.1.2,!=2.1.6,>=2.0.1 in /usr/local/lib/python3.6/dist-packages (from matplotlib->stable-baselines[mpi]==2.8.0) (2.4.7)\n",
            "Requirement already satisfied: future in /usr/local/lib/python3.6/dist-packages (from pyglet<=1.5.0,>=1.4.0->gym[atari,classic_control]>=0.10.9->stable-baselines[mpi]==2.8.0) (0.16.0)\n",
            "Requirement already satisfied: six in /usr/local/lib/python3.6/dist-packages (from atari-py~=0.2.0; extra == \"atari\"->gym[atari,classic_control]>=0.10.9->stable-baselines[mpi]==2.8.0) (1.12.0)\n",
            "Installing collected packages: stable-baselines\n",
            "  Found existing installation: stable-baselines 2.2.1\n",
            "    Uninstalling stable-baselines-2.2.1:\n",
            "      Successfully uninstalled stable-baselines-2.2.1\n",
            "Successfully installed stable-baselines-2.8.0\n"
          ],
          "name": "stdout"
        },
        {
          "output_type": "execute_result",
          "data": {
            "text/plain": [
              ""
            ]
          },
          "metadata": {
            "tags": []
          },
          "execution_count": 53
        }
      ]
    },
    {
      "cell_type": "markdown",
      "metadata": {
        "colab_type": "text",
        "id": "rCk0wAHtIvKX"
      },
      "source": [
        "- For Windows: \n",
        "    - First install [MPI for Windows](https://www.microsoft.com/en-us/download/details.aspx?id=57467) (you need to download and install `msmpisetup.exe`)\n",
        "    - Then run this command in Prompt: `pip install stable-baselines[mpi]==2.8.0`"
      ]
    },
    {
      "cell_type": "markdown",
      "metadata": {
        "colab_type": "text",
        "id": "Sx1Q4VpmM9qj"
      },
      "source": [
        "### 1.1. Import Libraries:"
      ]
    },
    {
      "cell_type": "code",
      "metadata": {
        "colab_type": "code",
        "id": "z38drypWPTwH",
        "colab": {
          "base_uri": "https://localhost:8080/",
          "height": 170
        },
        "outputId": "3b0cd3f6-ca91-40ca-d4ac-9592b86c2640"
      },
      "source": [
        "import random, pickle, os.path, math, glob, csv\n",
        "import numpy as np\n",
        "\n",
        "from timeit import default_timer as timer\n",
        "from datetime import timedelta\n",
        "\n",
        "import matplotlib\n",
        "%matplotlib inline\n",
        "from IPython.display import clear_output\n",
        "from plot import plot_all_data \n",
        "\n",
        "import torch\n",
        "import torch.optim as optim\n",
        "import torch.nn as nn\n",
        "import torch.nn.functional as F\n",
        "\n",
        "# ######################## #\n",
        "# USE ONLY IN GOOGLE COLAB #\n",
        "%tensorflow_version 1.x \n",
        "# ######################## #\n",
        "\n",
        "import gym\n",
        "from gym.spaces.box import Box\n",
        "from stable_baselines import bench\n",
        "from stable_baselines.common.atari_wrappers import make_atari, wrap_deepmind\n",
        "\n",
        "\n"
      ],
      "execution_count": 1,
      "outputs": [
        {
          "output_type": "stream",
          "text": [
            "TensorFlow 1.x selected.\n",
            "WARNING:tensorflow:\n",
            "The TensorFlow contrib module will not be included in TensorFlow 2.0.\n",
            "For more information, please see:\n",
            "  * https://github.com/tensorflow/community/blob/master/rfcs/20180907-contrib-sunset.md\n",
            "  * https://github.com/tensorflow/addons\n",
            "  * https://github.com/tensorflow/io (for I/O related ops)\n",
            "If you depend on functionality not listed there, please file an issue.\n",
            "\n"
          ],
          "name": "stdout"
        }
      ]
    },
    {
      "cell_type": "markdown",
      "metadata": {
        "colab_type": "text",
        "id": "B08Nd1BBPTwS"
      },
      "source": [
        " ### 1.2. Hyperparameters"
      ]
    },
    {
      "cell_type": "code",
      "metadata": {
        "colab_type": "code",
        "id": "jUh4C3D1PTwT",
        "colab": {}
      },
      "source": [
        "device = torch.device(\"cuda\" if torch.cuda.is_available() else \"cpu\")\n",
        "\n",
        "# Epsilon variables for epsilon-greedy:\n",
        "epsilon_start    = 1.0\n",
        "epsilon_final    = 0.01\n",
        "epsilon_decay    = 30000\n",
        "epsilon_by_frame = lambda frame_idx: epsilon_final + (epsilon_start - epsilon_final) * math.exp(-1. * frame_idx / epsilon_decay) \n",
        "\n",
        "# Misc agent variables\n",
        "GAMMA = 0.99 \n",
        "LR    = 1e-4 \n",
        "\n",
        "# Memory\n",
        "TARGET_NET_UPDATE_FREQ = 1000 \n",
        "EXP_REPLAY_SIZE        = 100000 \n",
        "BATCH_SIZE             = 32 \n",
        "\n",
        "# Learning control variables\n",
        "LEARN_START = 10000\n",
        "MAX_FRAMES  = 200000 # Probably takes about an hour training. You can increase it if you have time!\n",
        "UPDATE_FREQ = 1 \n",
        "\n",
        "# Data logging parameters\n",
        "ACTION_SELECTION_COUNT_FREQUENCY = 1000 \n"
      ],
      "execution_count": 0,
      "outputs": []
    },
    {
      "cell_type": "markdown",
      "metadata": {
        "colab_type": "text",
        "id": "_LhYJ6qyPTwY"
      },
      "source": [
        "## 2. Model (22 Points)\n",
        "We will implement a DQN model with experience replay. We implement a class for experience replay  `ExperienceReplayMemory`, for extarct features of observed picture of game we implement a class `DQN` that uses a CNN and inheritance from `nn.Module`. We implemented a wrapper class `WrapPyTorch` that you will use it in training loop."
      ]
    },
    {
      "cell_type": "markdown",
      "metadata": {
        "colab_type": "text",
        "id": "fHB1ZPIqNUIw"
      },
      "source": [
        "### 2.1. Replay Memory (3 Points)"
      ]
    },
    {
      "cell_type": "code",
      "metadata": {
        "colab_type": "code",
        "id": "kdfgfO10PTwZ",
        "colab": {}
      },
      "source": [
        "#################################################################################\n",
        "#                          COMPLETE THE FOLLOWING SECTION                       #\n",
        "#################################################################################\n",
        "# complete push and sample methods.\n",
        "#################################################################################\n",
        "class ExperienceReplayMemory:\n",
        "    def __init__(self, capacity):\n",
        "        self.capacity = capacity\n",
        "        self.memory = []\n",
        "\n",
        "    def push(self, transition):\n",
        "        self.memory.append(transition)\n",
        "\n",
        "        if len(self.memory) > self.capacity:\n",
        "            del self.memory[0]\n",
        "\n",
        "    def sample(self, batch_size):\n",
        "        return random.sample(self.memory, batch_size), None, None\n",
        "\n",
        "    def __len__(self):\n",
        "        return len(self.memory)\n",
        "#################################################################################\n",
        "#                                   THE END                                     #\n",
        "#################################################################################  "
      ],
      "execution_count": 0,
      "outputs": []
    },
    {
      "cell_type": "markdown",
      "metadata": {
        "colab_type": "text",
        "id": "BAsgNXi5PTwc"
      },
      "source": [
        "### 2.2. Network Declaration (4 Points)"
      ]
    },
    {
      "cell_type": "code",
      "metadata": {
        "colab_type": "code",
        "id": "foP8pyAUPTwc",
        "colab": {}
      },
      "source": [
        "class DQN(nn.Module):\n",
        "    def __init__(self, input_shape, num_actions):\n",
        "        super(DQN, self).__init__()\n",
        "        \n",
        "        self.input_shape = input_shape\n",
        "        self.num_actions = num_actions\n",
        "\n",
        "        #################################################################################\n",
        "        #                          COMPLETE THE FOLLOWING SECTION                       #\n",
        "        #################################################################################\n",
        "        # Initialize CNN Model :\n",
        "        # conv1: out_channels:32, kernel_size=8, stride=4\n",
        "        # conv2: out_channels:64, kernel_size=4, stride=2\n",
        "        # conv3: out_channels:64, kernel_size=3, stride=1\n",
        "        # fc1(512)\n",
        "        # fc2(512)\n",
        "\n",
        "        self.conv1 = nn.Conv2d(self.input_shape[0], 32, 8, 4)\n",
        "        self.conv2 = nn.Conv2d(32, 64, 4, 2)\n",
        "        self.conv3 = nn.Conv2d(64, 64, 3, 1)\n",
        "\n",
        "        def conv_out(n, f, s, p=0):\n",
        "            return int((n - f + 2*p) / s) + 1\n",
        "\n",
        "        self.flat = nn.Flatten()\n",
        "\n",
        "        W = conv_out(conv_out(conv_out(self.input_shape[1], 8, 4), 4, 2), 3, 1)\n",
        "        H = conv_out(conv_out(conv_out(self.input_shape[2], 8, 4), 4, 2), 3, 1)\n",
        "\n",
        "        self.fc1 = nn.Linear(W * H * 64, 512)\n",
        "        self.fc2 = nn.Linear(512, self.num_actions)\n",
        "\n",
        "        #################################################################################\n",
        "        pass\n",
        "        #################################################################################\n",
        "        #                                   THE END                                     #\n",
        "        #################################################################################\n",
        "\n",
        "    def forward(self, x):\n",
        "        #################################################################################\n",
        "        #                          COMPLETE THE FOLLOWING SECTION                       #\n",
        "        #################################################################################\n",
        "        # complete forward pass using initialized CNN Model. use Relu activation function \n",
        "        # for conv1, conv2, conv3, and fc1.  \n",
        "        #################################################################################\n",
        "        pass\n",
        "\n",
        "        x = F.relu(self.conv1(x))\n",
        "        x = F.relu(self.conv2(x))\n",
        "        x = F.relu(self.conv3(x))\n",
        "\n",
        "        x = self.flat(x)\n",
        "\n",
        "        x = F.relu(self.fc1(x))\n",
        "        x = self.fc2(x)\n",
        "\n",
        "        return x\n",
        "        #################################################################################\n",
        "        #                                   THE END                                     #\n",
        "        #################################################################################   \n",
        "\n"
      ],
      "execution_count": 0,
      "outputs": []
    },
    {
      "cell_type": "markdown",
      "metadata": {
        "colab_type": "text",
        "id": "gbvmYNe_NkcY"
      },
      "source": [
        "### 2.3. Wrapper\n"
      ]
    },
    {
      "cell_type": "code",
      "metadata": {
        "colab_type": "code",
        "id": "BfL-2Xe-YVJX",
        "colab": {}
      },
      "source": [
        "class WrapPyTorch(gym.ObservationWrapper):\n",
        "    def __init__(self, env=None):\n",
        "        super(WrapPyTorch, self).__init__(env)\n",
        "        obs_shape = self.observation_space.shape\n",
        "        self.observation_space = Box(\n",
        "            self.observation_space.low[0, 0, 0],\n",
        "            self.observation_space.high[0, 0, 0],\n",
        "            [obs_shape[2], obs_shape[1], obs_shape[0]],\n",
        "            dtype=self.observation_space.dtype)\n",
        "\n",
        "    def observation(self, observation):\n",
        "        return observation.transpose(2, 0, 1)"
      ],
      "execution_count": 0,
      "outputs": []
    },
    {
      "cell_type": "markdown",
      "metadata": {
        "colab_type": "text",
        "id": "KmaplGeXPTwf"
      },
      "source": [
        " ### 2.4. Agent (15 Points)"
      ]
    },
    {
      "cell_type": "code",
      "metadata": {
        "colab_type": "code",
        "id": "UoBY6iez85Xk",
        "colab": {}
      },
      "source": [
        "class Model():\n",
        "    def __init__(self, env=None, log_dir='/tmp/gym'):\n",
        "        self.device = device\n",
        "\n",
        "        self.gamma = GAMMA \n",
        "        self.lr = LR\n",
        "        self.target_net_update_freq = TARGET_NET_UPDATE_FREQ\n",
        "        self.experience_replay_size = EXP_REPLAY_SIZE\n",
        "        self.batch_size = BATCH_SIZE\n",
        "        self.learn_start = LEARN_START\n",
        "        self.update_freq = UPDATE_FREQ\n",
        "        self.log_dir = log_dir\n",
        "        self.rewards = []\n",
        "        self.action_log_frequency = ACTION_SELECTION_COUNT_FREQUENCY\n",
        "        #################################################################################\n",
        "        #                          COMPLETE THE FOLLOWING SECTION                       #\n",
        "        #################################################################################\n",
        "        # do followings line by line:\n",
        "        # * make a list of action selections\n",
        "        # * use shape of observation space to save number of features\n",
        "        # * save naumber of actions\n",
        "        # * save environment in self.env\n",
        "        # * use DQN class to declare model and target model (the game is 2-player game, so\n",
        "        #   we declare 2 model)\n",
        "        # * using load_state_dict, share learnable parameters (i.e. weights and biases) of\n",
        "        #   self.model with self.target_model \n",
        "        # * use Adam optimizer\n",
        "        #################################################################################\n",
        "        self.action_selections = [0, 1, 2, 3, 4, 5]\n",
        "        self.num_feats = env.observation_space.shape\n",
        "        self.num_actions = env.action_space.n\n",
        "        self.env = env\n",
        "\n",
        "        self.model = DQN(self.num_feats, self.num_actions)\n",
        "        self.target_model = DQN(self.num_feats, self.num_actions)\n",
        "            \n",
        "        self.target_model.load_state_dict(self.model.state_dict())\n",
        "\n",
        "        self.optimizer = optim.Adam(self.model.parameters(), lr=self.lr)\n",
        "        #################################################################################\n",
        "        #                                   THE END                                     #\n",
        "        #################################################################################\n",
        "\n",
        "        # Move to correct device\n",
        "        self.model = self.model.to(self.device)\n",
        "        self.target_model.to(self.device)\n",
        "\n",
        "        self.model.train()\n",
        "        self.target_model.train()\n",
        "\n",
        "        self.update_count = 0\n",
        "\n",
        "        self.memory = ExperienceReplayMemory(self.experience_replay_size)\n",
        "        \n",
        "\n",
        "    def prep_minibatch(self):\n",
        "      \n",
        "        #################################################################################\n",
        "        #                          COMPLETE THE FOLLOWING SECTION                       #\n",
        "        #################################################################################\n",
        "        # random transition batch is taken from experience replay memory\n",
        "        # do followings line by line:\n",
        "        # * sample from self.memory with batch size, and save result in transitions, \n",
        "        #   indices, weights\n",
        "        # * use transitions to save batch_state, batch_action, batch_reward, \n",
        "        #   batch_next_state as tensors\n",
        "        # * save non_final_mask,  non_final_next_states as tensors, note that sometimes \n",
        "        #   all next states are false\n",
        "        #################################################################################\n",
        "        transitions, indices, weights = self.memory.sample(self.batch_size)\n",
        "        \n",
        "        batch_state, batch_action, batch_reward, batch_next_state = zip(*transitions)\n",
        "\n",
        "        shape = (-1,)+self.num_feats\n",
        "\n",
        "        batch_state = torch.tensor(batch_state, device=self.device, dtype=torch.float).view(shape)\n",
        "        batch_action = torch.tensor(batch_action, device=self.device, dtype=torch.long).squeeze().view(-1, 1)\n",
        "        batch_reward = torch.tensor(batch_reward, device=self.device, dtype=torch.float).squeeze().view(-1, 1)\n",
        "        \n",
        "        non_final_mask = torch.tensor(tuple(map(lambda s: s is not None, batch_next_state)), device=self.device, dtype=torch.uint8)\n",
        "\n",
        "        try:\n",
        "            non_final_next_states = torch.tensor([s for s in batch_next_state if s is not None], device=self.device, dtype=torch.float).view(shape)\n",
        "            empty_next_state_values = False\n",
        "        except:\n",
        "            non_final_next_states = None\n",
        "            empty_next_state_values = True\n",
        "        #################################################################################\n",
        "        #                                   THE END                                     #\n",
        "        #################################################################################\n",
        "        return batch_state, batch_action, batch_reward, non_final_next_states, non_final_mask, empty_next_state_values, indices, weights\n",
        "\n",
        "    def compute_loss(self, batch_vars):\n",
        "        batch_state, batch_action, batch_reward, non_final_next_states, non_final_mask, empty_next_state_values, indices, weights = batch_vars\n",
        "\n",
        "        #################################################################################\n",
        "        #                          COMPLETE THE FOLLOWING SECTION                       #\n",
        "        #################################################################################\n",
        "        # implement calculation of loss (you can use \"with torch.no_grad():\")\n",
        "        #################################################################################\n",
        "        \n",
        "        # self.model.sample_noise()\n",
        "        current_q_values = self.model(batch_state).gather(1, batch_action)\n",
        "        \n",
        "        with torch.no_grad():\n",
        "            max_next_q_values = torch.zeros(self.batch_size, device=self.device, dtype=torch.float).unsqueeze(dim=1)\n",
        "            if not empty_next_state_values:\n",
        "                max_next_action = self.get_max_next_state_action(non_final_next_states)\n",
        "                # self.target_model.sample_noise()\n",
        "                max_next_q_values[non_final_mask] = self.target_model(non_final_next_states).gather(1, max_next_action)\n",
        "            expected_q_values = batch_reward + (self.gamma * max_next_q_values)\n",
        "\n",
        "        diff = (expected_q_values - current_q_values)\n",
        "        loss = 1 / 2 * diff.pow(2)\n",
        "        loss = loss.mean()\n",
        "\n",
        "        #################################################################################\n",
        "        #                                   THE END                                     #\n",
        "        #################################################################################\n",
        "        return loss\n",
        "\n",
        "    def update(self, s, a, r, s_, frame=0):\n",
        "        #################################################################################\n",
        "        #                          COMPLETE THE FOLLOWING SECTION                       #\n",
        "        #################################################################################\n",
        "        # implement update method to optimize model \n",
        "        # * push state, action, reward and new state to memoty\n",
        "        # * note that if frame is lower than self.learn_start or frame % self.update_freq != 0\n",
        "        #   return None\n",
        "        # * take a random transition batch and compute loss\n",
        "        # * optimize the model\n",
        "        #################################################################################\n",
        "        self.memory.push((s, a, r, s_))\n",
        "\n",
        "        if frame < self.learn_start or frame % self.update_freq != 0:\n",
        "            return None\n",
        "\n",
        "        batch_vars = self.prep_minibatch()\n",
        "\n",
        "        loss = self.compute_loss(batch_vars)\n",
        "\n",
        "        self.optimizer.zero_grad()\n",
        "        loss.backward()\n",
        "\n",
        "        for param in self.model.parameters():\n",
        "            param.grad.data.clamp_(-1, 1)\n",
        "        \n",
        "        self.optimizer.step()\n",
        "\n",
        "        pass\n",
        "        #################################################################################\n",
        "        #                                   THE END                                     #\n",
        "        #################################################################################\n",
        "\n",
        "        self.update_target_model()       \n",
        "        self.save_td(loss.item(), frame)\n",
        "        self.save_sigma_param_magnitudes(frame)\n",
        "\n",
        "    def get_action(self, s, eps=0.1):\n",
        "\n",
        "        #################################################################################\n",
        "        #                          COMPLETE THE FOLLOWING SECTION                       #\n",
        "        #################################################################################  \n",
        "         # implement get_action method (epsilon greedy)\n",
        "         # you can use \"with torch.no_grad():\"\n",
        "         ################################################################################# \n",
        "        pass\n",
        "        with torch.no_grad():\n",
        "            if np.random.random() >= eps:\n",
        "                X = torch.tensor([s], device=self.device, dtype=torch.float)\n",
        "                # self.model.sample_noise()\n",
        "                a = self.model(X).max(1)[1].view(1, 1)\n",
        "                return a.item()\n",
        "            else:\n",
        "                return np.random.randint(0, self.num_actions)\n",
        "\n",
        "        #################################################################################\n",
        "        #                                   THE END                                     #\n",
        "        #################################################################################\n",
        "\n",
        "    def update_target_model(self):\n",
        "      # update target model:\n",
        "        self.update_count+=1\n",
        "        self.update_count = self.update_count % self.target_net_update_freq\n",
        "        if self.update_count == 0:\n",
        "            self.target_model.load_state_dict(self.model.state_dict())\n",
        "\n",
        "    def get_max_next_state_action(self, next_states):\n",
        "        return self.target_model(next_states).max(dim=1)[1].view(-1, 1)\n",
        "\n",
        "\n",
        "    def save_sigma_param_magnitudes(self, tstep):\n",
        "        with torch.no_grad():\n",
        "            sum_, count = 0.0, 0.0\n",
        "            for name, param in self.model.named_parameters():\n",
        "                if param.requires_grad and 'sigma' in name:\n",
        "                    sum_+= torch.sum(param.abs()).item()\n",
        "                    count += np.prod(param.shape)\n",
        "            \n",
        "            if count > 0:\n",
        "                with open(os.path.join(self.log_dir, 'sig_param_mag.csv'), 'a') as f:\n",
        "                    writer = csv.writer(f)\n",
        "                    writer.writerow((tstep, sum_/count))\n",
        "\n",
        "    def save_td(self, td, tstep):\n",
        "      # save temporal difference\n",
        "        with open(os.path.join(self.log_dir, 'td.csv'), 'a') as f:\n",
        "            writer = csv.writer(f)\n",
        "            writer.writerow((tstep, td))\n",
        "\n",
        "    def save_reward(self, reward):\n",
        "        self.rewards.append(reward)\n",
        "\n",
        "    def save_action(self, action, tstep):\n",
        "        self.action_selections[int(action)] += 1.0/self.action_log_frequency\n",
        "        if (tstep+1) % self.action_log_frequency == 0:\n",
        "            with open(os.path.join(self.log_dir, 'action_log.csv'), 'a') as f:\n",
        "                writer = csv.writer(f)\n",
        "                writer.writerow(list([tstep]+self.action_selections))\n",
        "            self.action_selections = [0 for _ in range(len(self.action_selections))]\n",
        "\n"
      ],
      "execution_count": 0,
      "outputs": []
    },
    {
      "cell_type": "markdown",
      "metadata": {
        "colab_type": "text",
        "id": "COg8LTslPTwi"
      },
      "source": [
        " ## 3. Training Loop (8 Points)"
      ]
    },
    {
      "cell_type": "code",
      "metadata": {
        "colab_type": "code",
        "id": "yOmkex6lPTwj",
        "outputId": "54bbd3b4-d936-4f9a-db12-a7a795c2d4ad",
        "colab": {
          "base_uri": "https://localhost:8080/",
          "height": 351
        }
      },
      "source": [
        "start=timer()\n",
        "\n",
        "log_dir = \"/tmp/gym/\"\n",
        "try:\n",
        "    os.makedirs(log_dir)\n",
        "except OSError:\n",
        "    files = glob.glob(os.path.join(log_dir, '*.monitor.csv')) \\\n",
        "        + glob.glob(os.path.join(log_dir, '*td.csv')) \\\n",
        "        + glob.glob(os.path.join(log_dir, '*sig_param_mag.csv')) \\\n",
        "        + glob.glob(os.path.join(log_dir, '*action_log.csv'))\n",
        "    for f in files:\n",
        "        os.remove(f)\n",
        "\n",
        "#################################################################################\n",
        "#                          COMPLETE THE FOLLOWING SECTION                       #\n",
        "#################################################################################\n",
        "# do followings line by line:\n",
        "# * use \"make_atari\" wrapper and save \"PongNoFrameskip-v4\" game to env\n",
        "# * use \"bench.Monitor\" wrapper to know the episode reward, length, time and other data.\n",
        "# * use \"wrap_deepmind\" wrapper to configure environment for DeepMind-style Atari.\n",
        "# * use *WrapPyTorch*\n",
        "# * save model\n",
        "# * implement training loop\n",
        "#################################################################################\n",
        "env_id = \"PongNoFrameskip-v4\"\n",
        "env =  make_atari(env_id)\n",
        "env = bench.Monitor(env, os.path.join(log_dir, env_id))\n",
        "# env = wrap_deepmind(env, episode_life=True, clip_rewards=True, frame_stack=False, scale=True)\n",
        "env = WrapPyTorch(env)\n",
        "model = Model(env, log_dir)\n",
        "\n",
        "episode_reward = 0\n",
        "observation = env.reset()\n",
        "for frame_idx in range(1, MAX_FRAMES + 1):\n",
        "    epsilon = epsilon_by_frame(frame_idx)\n",
        "\n",
        "    action = model.get_action(observation, epsilon)\n",
        "\n",
        "    model.save_action(action, frame_idx) #log action selection\n",
        "\n",
        "    prev_observation = observation\n",
        "    observation, reward, done, _ = env.step(action)\n",
        "\n",
        "    if done : \n",
        "        observation = None \n",
        "\n",
        "    model.update(prev_observation, action, reward, observation, frame_idx)\n",
        "    episode_reward += reward\n",
        "\n",
        "    if done:\n",
        "\n",
        "        observation = env.reset()\n",
        "        model.save_reward(episode_reward)\n",
        "        episode_reward = 0\n",
        "        \n",
        "#################################################################################\n",
        "#                                   THE END                                     #\n",
        "################################################################################# \n",
        "    \n",
        "    if frame_idx % 1000 == 0:\n",
        "        print('Frame : {}'.format(frame_idx))\n",
        "        try:\n",
        "            clear_output(True)\n",
        "            plot_all_data(log_dir, env_id, 'DQN', MAX_FRAMES, bin_size=(10, 100, 100, 1), smooth=1, time=timedelta(seconds=int(timer()-start)), ipynb=True)\n",
        "        except IOError:\n",
        "            pass\n",
        " \n",
        "env.close()\n",
        "plot_all_data(log_dir, env_id, 'DQN', MAX_FRAMES, bin_size=(10, 100, 100, 1), smooth=1, time=timedelta(seconds=int(timer()-start)), ipynb=True)"
      ],
      "execution_count": 11,
      "outputs": [
        {
          "output_type": "error",
          "ename": "KeyboardInterrupt",
          "evalue": "ignored",
          "traceback": [
            "\u001b[0;31m---------------------------------------------------------------------------\u001b[0m",
            "\u001b[0;31mKeyboardInterrupt\u001b[0m                         Traceback (most recent call last)",
            "\u001b[0;32m<ipython-input-11-70ae0e1af22b>\u001b[0m in \u001b[0;36m<module>\u001b[0;34m()\u001b[0m\n\u001b[1;32m     32\u001b[0m     \u001b[0mepsilon\u001b[0m \u001b[0;34m=\u001b[0m \u001b[0mepsilon_by_frame\u001b[0m\u001b[0;34m(\u001b[0m\u001b[0mframe_idx\u001b[0m\u001b[0;34m)\u001b[0m\u001b[0;34m\u001b[0m\u001b[0;34m\u001b[0m\u001b[0m\n\u001b[1;32m     33\u001b[0m \u001b[0;34m\u001b[0m\u001b[0m\n\u001b[0;32m---> 34\u001b[0;31m     \u001b[0maction\u001b[0m \u001b[0;34m=\u001b[0m \u001b[0mmodel\u001b[0m\u001b[0;34m.\u001b[0m\u001b[0mget_action\u001b[0m\u001b[0;34m(\u001b[0m\u001b[0mobservation\u001b[0m\u001b[0;34m,\u001b[0m \u001b[0mepsilon\u001b[0m\u001b[0;34m)\u001b[0m\u001b[0;34m\u001b[0m\u001b[0;34m\u001b[0m\u001b[0m\n\u001b[0m\u001b[1;32m     35\u001b[0m \u001b[0;34m\u001b[0m\u001b[0m\n\u001b[1;32m     36\u001b[0m     \u001b[0mmodel\u001b[0m\u001b[0;34m.\u001b[0m\u001b[0msave_action\u001b[0m\u001b[0;34m(\u001b[0m\u001b[0maction\u001b[0m\u001b[0;34m,\u001b[0m \u001b[0mframe_idx\u001b[0m\u001b[0;34m)\u001b[0m \u001b[0;31m#log action selection\u001b[0m\u001b[0;34m\u001b[0m\u001b[0;34m\u001b[0m\u001b[0m\n",
            "\u001b[0;32m<ipython-input-8-1be4b8f10ce9>\u001b[0m in \u001b[0;36mget_action\u001b[0;34m(self, s, eps)\u001b[0m\n\u001b[1;32m    170\u001b[0m         \u001b[0;32mwith\u001b[0m \u001b[0mtorch\u001b[0m\u001b[0;34m.\u001b[0m\u001b[0mno_grad\u001b[0m\u001b[0;34m(\u001b[0m\u001b[0;34m)\u001b[0m\u001b[0;34m:\u001b[0m\u001b[0;34m\u001b[0m\u001b[0;34m\u001b[0m\u001b[0m\n\u001b[1;32m    171\u001b[0m             \u001b[0;32mif\u001b[0m \u001b[0mnp\u001b[0m\u001b[0;34m.\u001b[0m\u001b[0mrandom\u001b[0m\u001b[0;34m.\u001b[0m\u001b[0mrandom\u001b[0m\u001b[0;34m(\u001b[0m\u001b[0;34m)\u001b[0m \u001b[0;34m>=\u001b[0m \u001b[0meps\u001b[0m\u001b[0;34m:\u001b[0m\u001b[0;34m\u001b[0m\u001b[0;34m\u001b[0m\u001b[0m\n\u001b[0;32m--> 172\u001b[0;31m                 \u001b[0mX\u001b[0m \u001b[0;34m=\u001b[0m \u001b[0mtorch\u001b[0m\u001b[0;34m.\u001b[0m\u001b[0mtensor\u001b[0m\u001b[0;34m(\u001b[0m\u001b[0;34m[\u001b[0m\u001b[0ms\u001b[0m\u001b[0;34m]\u001b[0m\u001b[0;34m,\u001b[0m \u001b[0mdevice\u001b[0m\u001b[0;34m=\u001b[0m\u001b[0mself\u001b[0m\u001b[0;34m.\u001b[0m\u001b[0mdevice\u001b[0m\u001b[0;34m,\u001b[0m \u001b[0mdtype\u001b[0m\u001b[0;34m=\u001b[0m\u001b[0mtorch\u001b[0m\u001b[0;34m.\u001b[0m\u001b[0mfloat\u001b[0m\u001b[0;34m)\u001b[0m\u001b[0;34m\u001b[0m\u001b[0;34m\u001b[0m\u001b[0m\n\u001b[0m\u001b[1;32m    173\u001b[0m                 \u001b[0;31m# self.model.sample_noise()\u001b[0m\u001b[0;34m\u001b[0m\u001b[0;34m\u001b[0m\u001b[0;34m\u001b[0m\u001b[0m\n\u001b[1;32m    174\u001b[0m                 \u001b[0ma\u001b[0m \u001b[0;34m=\u001b[0m \u001b[0mself\u001b[0m\u001b[0;34m.\u001b[0m\u001b[0mmodel\u001b[0m\u001b[0;34m(\u001b[0m\u001b[0mX\u001b[0m\u001b[0;34m)\u001b[0m\u001b[0;34m.\u001b[0m\u001b[0mmax\u001b[0m\u001b[0;34m(\u001b[0m\u001b[0;36m1\u001b[0m\u001b[0;34m)\u001b[0m\u001b[0;34m[\u001b[0m\u001b[0;36m1\u001b[0m\u001b[0;34m]\u001b[0m\u001b[0;34m.\u001b[0m\u001b[0mview\u001b[0m\u001b[0;34m(\u001b[0m\u001b[0;36m1\u001b[0m\u001b[0;34m,\u001b[0m \u001b[0;36m1\u001b[0m\u001b[0;34m)\u001b[0m\u001b[0;34m\u001b[0m\u001b[0;34m\u001b[0m\u001b[0m\n",
            "\u001b[0;31mKeyboardInterrupt\u001b[0m: "
          ]
        }
      ]
    },
    {
      "cell_type": "markdown",
      "metadata": {
        "colab_type": "text",
        "id": "bqc_dDMIVxks"
      },
      "source": [
        "![Result](https://github.com/ShayanNazemi/Deep-Learning-40719/blob/master/HW6/Part%201/result.JPG?raw=1)"
      ]
    },
    {
      "cell_type": "code",
      "metadata": {
        "id": "k_gmFDoRD77I",
        "colab_type": "code",
        "colab": {}
      },
      "source": [
        ""
      ],
      "execution_count": 0,
      "outputs": []
    }
  ]
}