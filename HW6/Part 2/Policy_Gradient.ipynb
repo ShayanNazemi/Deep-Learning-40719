{
  "nbformat": 4,
  "nbformat_minor": 0,
  "metadata": {
    "colab": {
      "name": "Policy_Gradient.ipynb",
      "provenance": [],
      "collapsed_sections": [],
      "toc_visible": true
    },
    "kernelspec": {
      "display_name": "Python 3",
      "language": "python",
      "name": "python3"
    },
    "language_info": {
      "codemirror_mode": {
        "name": "ipython",
        "version": 3
      },
      "file_extension": ".py",
      "mimetype": "text/x-python",
      "name": "python",
      "nbconvert_exporter": "python",
      "pygments_lexer": "ipython3",
      "version": "3.7.6"
    }
  },
  "cells": [
    {
      "cell_type": "markdown",
      "metadata": {
        "colab_type": "text",
        "id": "gWER5KWyje5W"
      },
      "source": [
        "# CE-40719: Deep Learning\n",
        "## HW6 - Deep Reinforcement Learning\n",
        "(20 points)\n",
        "\n",
        "#### Name: Seyed Shayan Nazemi\n",
        "#### Student No.: 98209037\n"
      ]
    },
    {
      "cell_type": "code",
      "metadata": {
        "colab_type": "code",
        "id": "f3OlGZrajdP6",
        "colab": {}
      },
      "source": [
        "import numpy as np\n",
        "import torch\n",
        "import torch.nn as nn\n",
        "import torch.optim as optim\n",
        "from torch.distributions import Categorical\n",
        "from torch.autograd import Variable\n",
        "import matplotlib.pyplot as plt"
      ],
      "execution_count": 0,
      "outputs": []
    },
    {
      "cell_type": "markdown",
      "metadata": {
        "colab_type": "text",
        "id": "5FGl-ZG38t3e"
      },
      "source": [
        "\n",
        "This section is for definition of the environment dynamics function and clasic optimal controller function."
      ]
    },
    {
      "cell_type": "code",
      "metadata": {
        "colab_type": "code",
        "id": "-bibW2u3j3q3",
        "colab": {}
      },
      "source": [
        "T=0.01\n",
        "k=0.1\n",
        "ep=0.01\n",
        "ep2=0.01\n",
        "\n",
        "def env(a ,s1,s2):\n",
        "    next_s1 = s1+T * s2\n",
        "    next_s2 = s2+T*(-k*s2 +a)\n",
        "    return next_s1 , next_s2\n",
        "\n",
        "def optimal_control(s1,s2):\n",
        "    switching=s1-(np.sign(s2)/(k**2))*np.log(k*(np.abs(s2)+1/k))+(1/k)*s2\n",
        "    if (switching>ep2):\n",
        "        a=-1\n",
        "    elif (switching<-ep2):\n",
        "        a=1\n",
        "    elif (switching>-ep2)&(s2>ep)&(switching<ep2):\n",
        "        a=-1\n",
        "    elif (switching>-ep2)&(s2<-ep)&(switching<ep2):\n",
        "        a=1\n",
        "    else:\n",
        "        a=0\n",
        "    return a"
      ],
      "execution_count": 0,
      "outputs": []
    },
    {
      "cell_type": "markdown",
      "metadata": {
        "colab_type": "text",
        "id": "2oJxjdZpkRvM"
      },
      "source": [
        "## 1. Policy Network Design (4 Points):\n",
        "Design the layer of your network."
      ]
    },
    {
      "cell_type": "code",
      "metadata": {
        "colab_type": "code",
        "id": "HcmMomGVkbAs",
        "colab": {}
      },
      "source": [
        "######################################################################\n",
        "# TODO: Use 'torch.nn' module to design your network for Policy.     #\n",
        "# In your design you don't have any limitation and you can use       #\n",
        "# Batch-norm layers, Drop-out layers and etc for generalization      #\n",
        "# improvement (if needed). Use classes and modules from 'torch.nn'.  #\n",
        "# In the following code, the 'Policy' class is your policy network.  #\n",
        "# this class is inherited from nn.Module, so you can benefit         #\n",
        "# properties of the 'nn.Module'.You may complete '__init__()'        #\n",
        "# constructor by some classes like 'nn.ReLU()' or 'nn.Linear()'      #\n",
        "# to use them in the forward pass of your network.                   #\n",
        "######################################################################\n",
        "\n",
        "class Policy(nn.Module):\n",
        "    def __init__(self):\n",
        "        super(Policy, self).__init__()\n",
        "\n",
        "        self.fc1 = nn.Linear(2, 8)\n",
        "        self.act1 = nn.ReLU()\n",
        "\n",
        "        self.fc2 = nn.Linear(8, 16)\n",
        "        self.act2 = nn.ReLU()\n",
        "        \n",
        "        self.fc3 = nn.Linear(8, 1)\n",
        "\n",
        "    def forward(self, state):\n",
        "\n",
        "        state = self.act1(self.fc1(state))\n",
        "        state = self.act2(self.fc2(state))\n",
        "        state = self.fc3(state)\n",
        "\n",
        "        return state"
      ],
      "execution_count": 0,
      "outputs": []
    },
    {
      "cell_type": "markdown",
      "metadata": {
        "colab_type": "text",
        "id": "PdMB9XZKlKQv"
      },
      "source": [
        "## 2. Optimization Algorithm (2 Points):\n",
        "Select your optimizer and proper hyperparameter."
      ]
    },
    {
      "cell_type": "code",
      "metadata": {
        "colab_type": "code",
        "id": "qpXHEQ8llb-e",
        "colab": {}
      },
      "source": [
        "#############################################################################\n",
        "# TODO: Use a Cross-Entropy loss.Then, use 'torch.optim' module to optimize #\n",
        "# Cross-Entropy loss. You should select a optimization algorithm and its    #\n",
        "# hyperparameters like learning rate and discount factor.                   #\n",
        "#############################################################################\n",
        "\n",
        "policy = Policy()\n",
        "gamma = 0.9\n",
        "learning_rate = 1e-3\n",
        "optimizer = optim.Adam(policy.parameters(), lr = learning_rate)\n"
      ],
      "execution_count": 0,
      "outputs": []
    },
    {
      "cell_type": "code",
      "metadata": {
        "id": "Z38WUF4CxiSC",
        "colab_type": "code",
        "colab": {
          "base_uri": "https://localhost:8080/",
          "height": 88
        },
        "outputId": "1782a199-8555-4aad-c504-40f4f126a001"
      },
      "source": [
        "nn.functional.softmax(torch.tensor([1,2], dtype=torch.float))"
      ],
      "execution_count": 29,
      "outputs": [
        {
          "output_type": "stream",
          "text": [
            "/usr/local/lib/python3.6/dist-packages/ipykernel_launcher.py:1: UserWarning: Implicit dimension choice for softmax has been deprecated. Change the call to include dim=X as an argument.\n",
            "  \"\"\"Entry point for launching an IPython kernel.\n"
          ],
          "name": "stderr"
        },
        {
          "output_type": "execute_result",
          "data": {
            "text/plain": [
              "tensor([0.2689, 0.7311])"
            ]
          },
          "metadata": {
            "tags": []
          },
          "execution_count": 29
        }
      ]
    },
    {
      "cell_type": "markdown",
      "metadata": {
        "colab_type": "text",
        "id": "_cMV-55rl5Ge"
      },
      "source": [
        "## 3. Training (6 Points):\n",
        "You can tweak `hidden_dim`, `leanirng_rate`,`num_episodes`and etc to get a high accuracy."
      ]
    },
    {
      "cell_type": "code",
      "metadata": {
        "colab_type": "code",
        "id": "us-D2XGjmJKe",
        "colab": {}
      },
      "source": [
        "num_episodes=1000\n",
        "num_max_step=100\n",
        "\n",
        "# Episode policy and reward history\n",
        "policy_history = []\n",
        "reward_episode = []\n",
        "\n",
        "# Overall reward and loss history\n",
        "reward_history = []\n",
        "loss_history = []\n",
        "\n",
        "for episode in range(num_episodes):\n",
        "    state=4*torch.randn(2)\n",
        "    for step in range(num_max_step):\n",
        "        action = policy (state)\n",
        "        action_dist = Categorical(nn.functional.softmax(action))\n",
        "\n",
        "        selected_action = 2 * action_dist.sample() - 1\n",
        "\n",
        "        next_state1,next_state2=env(selected_action, state[0], state[1])\n",
        "        reward=1 - (next_state1 ** 2 + next_state2 ** 2)\n",
        "        reward_episode.append(reward)\n",
        "        policy_history.append(selected_action)\n",
        "\n",
        "    #Calculate discounted reward:\n",
        "    return_rewards=[]\n",
        "    ...\n",
        "\n",
        "\n",
        "    # Scale rewards:\n",
        "    rewards = ...\n",
        "    \n",
        "    # Calculate loss\n",
        "    loss = ...\n",
        "\n",
        "    # Update network weights:\n",
        "    ...\n",
        "    \n",
        "    #Save and intialize episode history counters\n",
        "    loss_history.append(loss)\n",
        "    reward_history.append(np.sum(reward_episode)/step)\n",
        "\n",
        "    print('[Episode %d / %d] reward: %.3f' %\n",
        "                  (episode, num_episodes, np.sum(reward_episode)/step))\n",
        "    policy_history = []\n",
        "    reward_episode= []\n",
        "\n",
        " "
      ],
      "execution_count": 0,
      "outputs": []
    },
    {
      "cell_type": "markdown",
      "metadata": {
        "colab_type": "text",
        "id": "at13PGlcmhyO"
      },
      "source": [
        "## 4. Test (8 Points):\n",
        "You have to get an accuracy above 80% with comparison to the classic optimal control solution."
      ]
    },
    {
      "cell_type": "code",
      "metadata": {
        "colab_type": "code",
        "id": "yLDhyUZ5mdJW",
        "outputId": "96b635f3-ef0b-42f6-b8f9-0ba7b8ba9c49",
        "colab": {
          "base_uri": "https://localhost:8080/",
          "height": 33
        }
      },
      "source": [
        "correct_predict=0\n",
        "num=10000\n",
        "states=4*torch.randn(num,2)\n",
        "for i in range(num):\n",
        "    predict_control_tensor=2*torch.argmax(policy(states[i]))-1\n",
        "    predict_control=predict_control_tensor.item()\n",
        "    action_optimal_control=optimal_control(states[i,0],states[i,1])\n",
        "    correct_predict += (predict_control == action_optimal_control)\n",
        "print('Accuracy: %.3f %%' %(correct_predict/num*100))"
      ],
      "execution_count": 0,
      "outputs": [
        {
          "output_type": "stream",
          "text": [
            "Accuracy: 87.770 %\n"
          ],
          "name": "stdout"
        }
      ]
    },
    {
      "cell_type": "markdown",
      "metadata": {
        "colab_type": "text",
        "id": "oW0w6joGoa_y"
      },
      "source": [
        "## 5. Visualization:\n",
        "You can visualize position and velocity of the body that is controlled by policy network with comparison to the classic optimal control solution. \n",
        "\n",
        "You can comparise minimum time."
      ]
    },
    {
      "cell_type": "code",
      "metadata": {
        "colab_type": "code",
        "id": "k_bUa1LzpFfm",
        "outputId": "906f03be-f9ae-4f3c-95c4-3ec327ce93d3",
        "colab": {
          "base_uri": "https://localhost:8080/",
          "height": 1000
        }
      },
      "source": [
        "n=3000\n",
        "state=4*torch.randn(2)\n",
        "\n",
        "# print(state)\n",
        "action_policy=[0]\n",
        "state1_policy=[state[0].item()]\n",
        "state2_policy=[state[1].item()]\n",
        "for t in range(n-1):\n",
        "    actions=policy(state)\n",
        "    a_tensor=torch.argmax(actions)\n",
        "    act=-2*a_tensor.item()+1\n",
        "    next_state1,next_state2=env(act,state[0],state[1])\n",
        "    state[0]=next_state1\n",
        "    state[1]=next_state2\n",
        "    state1_policy.append(next_state1.numpy())\n",
        "    state2_policy.append(next_state2.numpy())\n",
        "    action_policy.append(act)\n",
        "\n",
        "state1_opt=[state1_policy[0]]\n",
        "state2_opt=[state2_policy[0]]\n",
        "action_opt=[0]\n",
        "for t in range(n-1):\n",
        "    act_optimal=optimal_control(state1_opt[t],state2_opt[t])\n",
        "    next_state1,next_state2=env(act_optimal,state1_opt[t],state2_opt[t])\n",
        "    state1_opt.append(next_state1)\n",
        "    state2_opt.append(next_state2)\n",
        "    action_opt.append(act_optimal)\n",
        "\n",
        "time=np.arange(0,n*T,T)\n",
        "plt.plot(time,state1_policy)\n",
        "plt.plot(time,state1_opt)\n",
        "plt.ylabel('s1(t)')\n",
        "plt.xlabel('time (sec)')\n",
        "plt.grid(True)\n",
        "plt.title('Position')\n",
        "plt.axis([0,np.max(time), np.min([state1_policy,state1_opt]),np.max([state1_policy,state1_opt])])\n",
        "plt.show()\n",
        "\n",
        "plt.plot(time,state2_policy)\n",
        "plt.plot(time,state2_opt)\n",
        "plt.ylabel('s2(t)')\n",
        "plt.xlabel('time (sec)')\n",
        "plt.grid(True)\n",
        "plt.title('Velocity')\n",
        "plt.axis([0,np.max(time), np.min([state2_policy,state2_opt]),np.max([state2_policy,state2_opt])])\n",
        "plt.show()\n",
        "\n",
        "plt.plot(time,action_policy)\n",
        "plt.plot(time,action_opt)\n",
        "plt.ylabel('a(t)')\n",
        "plt.xlabel('time (sec)')\n",
        "plt.grid(True)\n",
        "plt.title('action')\n",
        "plt.axis([0,np.max(time) , np.min([action_policy,action_opt]),np.max([action_policy,action_opt]) ])\n",
        "plt.show()\n",
        "\n",
        "plt.plot(state1_policy,state2_policy)\n",
        "plt.plot(state1_opt,state2_opt)\n",
        "plt.ylabel('Velocity')\n",
        "plt.xlabel('Position')\n",
        "plt.grid(True)\n",
        "plt.title('Trajectory')\n",
        "# plt.axis([np.min(x1),np.max(x1) , np.min(x2),np.max(x2) ])\n",
        "plt.show()"
      ],
      "execution_count": 0,
      "outputs": [
        {
          "output_type": "display_data",
          "data": {
            "image/png": "[encoded data removed]",
            "text/plain": [
              "<Figure size 432x288 with 1 Axes>"
            ]
          },
          "metadata": {
            "tags": [],
            "needs_background": "light"
          }
        },
        {
          "output_type": "display_data",
          "data": {
            "image/png": "[encoded data removed]",
            "text/plain": [
              "<Figure size 432x288 with 1 Axes>"
            ]
          },
          "metadata": {
            "tags": [],
            "needs_background": "light"
          }
        },
        {
          "output_type": "display_data",
          "data": {
            "image/png": "[encoded data removed]",
            "text/plain": [
              "<Figure size 432x288 with 1 Axes>"
            ]
          },
          "metadata": {
            "tags": [],
            "needs_background": "light"
          }
        },
        {
          "output_type": "display_data",
          "data": {
            "image/png": "[encoded data removed]",
            "text/plain": [
              "<Figure size 432x288 with 1 Axes>"
            ]
          },
          "metadata": {
            "tags": [],
            "needs_background": "light"
          }
        }
      ]
    }
  ]
}